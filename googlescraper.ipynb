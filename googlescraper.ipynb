{
  "nbformat": 4,
  "nbformat_minor": 0,
  "metadata": {
    "colab": {
      "name": "googlescraper.ipynb",
      "private_outputs": true,
      "provenance": [],
      "authorship_tag": "ABX9TyOOiqX8ToadQCWgnIzl4MaA",
      "include_colab_link": true
    },
    "kernelspec": {
      "name": "python3",
      "display_name": "Python 3"
    },
    "accelerator": "TPU"
  },
  "cells": [
    {
      "cell_type": "markdown",
      "metadata": {
        "id": "view-in-github",
        "colab_type": "text"
      },
      "source": [
        "<a href=\"https://colab.research.google.com/github/hajerhajjajifahem24/Repo-2017/blob/master/googlescraper.ipynb\" target=\"_parent\"><img src=\"https://colab.research.google.com/assets/colab-badge.svg\" alt=\"Open In Colab\"/></a>"
      ]
    },
    {
      "cell_type": "code",
      "metadata": {
        "id": "dmcaqNGYFbaZ"
      },
      "source": [
        "!pip install play-scraper\n"
      ],
      "execution_count": null,
      "outputs": []
    },
    {
      "cell_type": "code",
      "metadata": {
        "id": "XOfSrmHlFocN"
      },
      "source": [
        "import play_scraper\n",
        "print(play_scraper.details('com.android.chrome'))"
      ],
      "execution_count": null,
      "outputs": []
    },
    {
      "cell_type": "code",
      "metadata": {
        "id": "X0CiJsKlFxSa"
      },
      "source": [
        "print(play_scraper.collection(\n",
        "        collection='TRENDING',\n",
        "        category='GAME_RACING',))"
      ],
      "execution_count": null,
      "outputs": []
    },
    {
      "cell_type": "code",
      "metadata": {
        "id": "wSpj4qFvGItJ"
      },
      "source": [
        " import play_scraper\n",
        "\n",
        " print(play_scraper.developer('Disney'))"
      ],
      "execution_count": null,
      "outputs": []
    },
    {
      "cell_type": "code",
      "metadata": {
        "id": "qUmVlpUrHgWO"
      },
      "source": [
        "import play_scraper\n",
        ">>> print(play_scraper.suggestions('cat'))"
      ],
      "execution_count": null,
      "outputs": []
    },
    {
      "cell_type": "code",
      "metadata": {
        "id": "Fg1C8yplHtjK"
      },
      "source": [
        "import play_scraper\n",
        ">>> print(play_scraper.search('dogs', page=2))"
      ],
      "execution_count": null,
      "outputs": []
    },
    {
      "cell_type": "code",
      "metadata": {
        "id": "2HXL5eBxH8eC"
      },
      "source": [
        "import play_scraper\n",
        "play_scraper.categories()"
      ],
      "execution_count": null,
      "outputs": []
    },
    {
      "cell_type": "code",
      "metadata": {
        "id": "rDnAGmS0W0fS"
      },
      "source": [
        "!wget -qO- https://raw.githubusercontent.com/nvm-sh/nvm/v0.35.3/install.sh | bash\n",
        "\n"
      ],
      "execution_count": null,
      "outputs": []
    },
    {
      "cell_type": "code",
      "metadata": {
        "id": "FpNnJ8INXOht"
      },
      "source": [
        "!pip install google-play-scraper\n"
      ],
      "execution_count": null,
      "outputs": []
    }
  ]
}