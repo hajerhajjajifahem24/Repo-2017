{
  "nbformat": 4,
  "nbformat_minor": 0,
  "metadata": {
    "colab": {
      "name": "classification review",
      "provenance": [],
      "private_outputs": true,
      "collapsed_sections": [],
      "authorship_tag": "ABX9TyPnhEUupSsliorU1ld27eZv",
      "include_colab_link": true
    },
    "kernelspec": {
      "name": "python3",
      "display_name": "Python 3"
    }
  },
  "cells": [
    {
      "cell_type": "markdown",
      "metadata": {
        "id": "view-in-github",
        "colab_type": "text"
      },
      "source": [
        "<a href=\"https://colab.research.google.com/github/hajerhajjajifahem24/Repo-2017/blob/master/classification_review.ipynb\" target=\"_parent\"><img src=\"https://colab.research.google.com/assets/colab-badge.svg\" alt=\"Open In Colab\"/></a>"
      ]
    },
    {
      "cell_type": "code",
      "metadata": {
        "id": "9y1dHemw8amB",
        "colab_type": "code",
        "colab": {}
      },
      "source": [
        "! pip install nltk"
      ],
      "execution_count": 0,
      "outputs": []
    },
    {
      "cell_type": "markdown",
      "metadata": {
        "id": "N4WapSltMUDS",
        "colab_type": "text"
      },
      "source": [
        "importing the packages and configuring some settings."
      ]
    },
    {
      "cell_type": "code",
      "metadata": {
        "id": "uJHU4YKDx98K",
        "colab_type": "code",
        "colab": {}
      },
      "source": [
        "import numpy as np \n",
        "import pandas as pd \n",
        "import collections\n",
        "#plot\n",
        "import matplotlib.pyplot as plt\n",
        "import seaborn as sns\n",
        "sns.set(style=\"darkgrid\")\n",
        "sns.set(font_scale=1.3)"
      ],
      "execution_count": 0,
      "outputs": []
    },
    {
      "cell_type": "markdown",
      "metadata": {
        "id": "O9EtLWdiMWyt",
        "colab_type": "text"
      },
      "source": [
        "downloading datasets into google drive via google colab"
      ]
    },
    {
      "cell_type": "code",
      "metadata": {
        "id": "BQqvbiQDKxqH",
        "colab_type": "code",
        "colab": {}
      },
      "source": [
        "from google.colab import drive\n",
        "drive.mount('/content/gdrive')"
      ],
      "execution_count": 0,
      "outputs": []
    },
    {
      "cell_type": "code",
      "metadata": {
        "id": "SqDwBZOCtS9m",
        "colab_type": "code",
        "colab": {}
      },
      "source": [
        "!ls \"drive/my-drive/googleplaystore_user_reviews.csv\""
      ],
      "execution_count": 0,
      "outputs": []
    },
    {
      "cell_type": "markdown",
      "metadata": {
        "id": "gF-7ohFEMi08",
        "colab_type": "text"
      },
      "source": [
        "upload dataset local"
      ]
    },
    {
      "cell_type": "code",
      "metadata": {
        "id": "inmI4r1TsMmy",
        "colab_type": "code",
        "colab": {}
      },
      "source": [
        "from google.colab import files\n",
        "uploaded = files.upload()"
      ],
      "execution_count": 0,
      "outputs": []
    },
    {
      "cell_type": "code",
      "metadata": {
        "id": "cLZW9p8OuZRr",
        "colab_type": "code",
        "colab": {}
      },
      "source": [
        "df =pd.read_csv(\"googleplaystore_user_reviews.csv\",encoding=\"latin1\")"
      ],
      "execution_count": 0,
      "outputs": []
    },
    {
      "cell_type": "markdown",
      "metadata": {
        "id": "aUEu2HVmM84e",
        "colab_type": "text"
      },
      "source": [
        "choose columns are important\n",
        "\n",
        "> Indented block\n",
        "\n",
        "> Indented block\n",
        "\n",
        "\n",
        "\n"
      ]
    },
    {
      "cell_type": "code",
      "metadata": {
        "id": "oDmr2SGb5Qf3",
        "colab_type": "code",
        "colab": {}
      },
      "source": [
        "df = pd.concat([df.Translated_Review, df.Sentiment], axis = 1)"
      ],
      "execution_count": 0,
      "outputs": []
    },
    {
      "cell_type": "markdown",
      "metadata": {
        "id": "M72Nby-BNJ3t",
        "colab_type": "text"
      },
      "source": [
        "verfied the  head columms"
      ]
    },
    {
      "cell_type": "code",
      "metadata": {
        "id": "vW7Yf49xwWoH",
        "colab_type": "code",
        "colab": {}
      },
      "source": [
        "df.head()"
      ],
      "execution_count": 0,
      "outputs": []
    },
    {
      "cell_type": "markdown",
      "metadata": {
        "id": "IfIRyURTNW3P",
        "colab_type": "text"
      },
      "source": [
        "delete the row which are nan "
      ]
    },
    {
      "cell_type": "code",
      "metadata": {
        "id": "KUYq_iQnymNG",
        "colab_type": "code",
        "colab": {}
      },
      "source": [
        "df.dropna(axis = 0, inplace = True)"
      ],
      "execution_count": 0,
      "outputs": []
    },
    {
      "cell_type": "code",
      "metadata": {
        "id": "U_Rgr-bvK2o6",
        "colab_type": "code",
        "colab": {}
      },
      "source": [
        "len(df)"
      ],
      "execution_count": 0,
      "outputs": []
    },
    {
      "cell_type": "markdown",
      "metadata": {
        "id": "Qlh0WY-8NuBq",
        "colab_type": "text"
      },
      "source": [
        "the factorplot of the seaborn package, we can visualize the distribution of the target variabl\n",
        "\n",
        "take vision about the dataset to understand more"
      ]
    },
    {
      "cell_type": "code",
      "metadata": {
        "id": "tnziowDS_STw",
        "colab_type": "code",
        "colab": {}
      },
      "source": [
        "\n",
        "sns.set(style=\"darkgrid\")\n",
        "sns.set(font_scale=1.3)\n",
        "sns.factorplot(x=\"Sentiment\", data=df, kind=\"count\", size=6, aspect=1.5, palette=\"cubehelix\")\n",
        "plt.show();"
      ],
      "execution_count": 0,
      "outputs": []
    },
    {
      "cell_type": "code",
      "metadata": {
        "id": "IiOCDcbe_SMn",
        "colab_type": "code",
        "colab": {}
      },
      "source": [
        ""
      ],
      "execution_count": 0,
      "outputs": []
    },
    {
      "cell_type": "code",
      "metadata": {
        "id": "F6xf_61LzEl_",
        "colab_type": "code",
        "colab": {}
      },
      "source": [
        "df.Sentiment = [1 if i==\"Positive\" else 0 if i== \"Negative\" else -1 for i in df.Sentiment]"
      ],
      "execution_count": 0,
      "outputs": []
    },
    {
      "cell_type": "code",
      "metadata": {
        "id": "vhQiSTM2pybp",
        "colab_type": "code",
        "colab": {}
      },
      "source": [
        "df.head()"
      ],
      "execution_count": 0,
      "outputs": []
    },
    {
      "cell_type": "markdown",
      "metadata": {
        "id": "YWfM42klPuE-",
        "colab_type": "text"
      },
      "source": [
        "cleaning the dataset\n",
        "Before we start using the semtiment text we need to clean it. With this class we’ll perform the following actions:\n",
        "set all words to lowercase\n",
        "remove all punctuations\n",
        "remove stopwords\n",
        "apply the PorterStemmer to keep the stem of the words"
      ]
    },
    {
      "cell_type": "code",
      "metadata": {
        "id": "SnZ3bCBM8TMm",
        "colab_type": "code",
        "colab": {}
      },
      "source": [
        "import re\n",
        "import nltk\n",
        "nltk.download('stopwords')\n",
        "from nltk.corpus import stopwords\n",
        "from nltk.stem.porter import PorterStemmer\n",
        "text_list = []\n",
        "for i in df.Translated_Review :\n",
        "    review = re.sub('[^a-zA-Z]', ' ', i)\n",
        "    review = review.lower() \n",
        "    review = review.split()\n",
        "    ps = PorterStemmer()\n",
        "    review = [ps.stem(word) for word in review if not word in set(stopwords.words('english'))]\n",
        "    review = ' '.join(review) \n",
        "    text_list.append(review)  \n",
        "    "
      ],
      "execution_count": 0,
      "outputs": []
    },
    {
      "cell_type": "code",
      "metadata": {
        "id": "tWxsikUkJgRr",
        "colab_type": "code",
        "colab": {}
      },
      "source": [
        ""
      ],
      "execution_count": 0,
      "outputs": []
    },
    {
      "cell_type": "markdown",
      "metadata": {
        "id": "H0m0IDJXQqwI",
        "colab_type": "text"
      },
      "source": [
        " Creating the Bag of Words model"
      ]
    },
    {
      "cell_type": "markdown",
      "metadata": {
        "id": "pPRMbICiQqoY",
        "colab_type": "text"
      },
      "source": [
        ""
      ]
    },
    {
      "cell_type": "code",
      "metadata": {
        "id": "-Ew1ZVXrG1KA",
        "colab_type": "code",
        "colab": {}
      },
      "source": [
        "from sklearn.feature_extraction.text import CountVectorizer\n",
        "cv = CountVectorizer(max_features = 1000)\n",
        "x = cv.fit_transform(text_list).toarray()\n",
        "y = df.iloc[:, 1].values"
      ],
      "execution_count": 0,
      "outputs": []
    },
    {
      "cell_type": "markdown",
      "metadata": {
        "id": "HKLyYuorQ_ev",
        "colab_type": "text"
      },
      "source": [
        "Below we’ll show the top 20 words. \n"
      ]
    },
    {
      "cell_type": "code",
      "metadata": {
        "id": "rKH1lk5pA0nu",
        "colab_type": "code",
        "colab": {}
      },
      "source": [
        "\n",
        "x = cv.fit_transform(text_list)\n",
        "word_freq = dict(zip(cv.get_feature_names(), np.asarray(x.sum(axis=0)).ravel()))\n",
        "word_counter = collections.Counter(word_freq)\n",
        "word_counter_df = pd.DataFrame(word_counter.most_common(20), columns = ['word', 'freq'])\n",
        "fig, ax = plt.subplots(figsize=(12, 10))\n",
        "sns.barplot(x=\"word\", y=\"freq\", data=word_counter_df, palette=\"BuGn_r\", ax=ax)\n",
        "plt.show();"
      ],
      "execution_count": 0,
      "outputs": []
    },
    {
      "cell_type": "code",
      "metadata": {
        "id": "RkO9N7X_G5cH",
        "colab_type": "code",
        "colab": {}
      },
      "source": [
        "print(y[0:100])"
      ],
      "execution_count": 0,
      "outputs": []
    },
    {
      "cell_type": "code",
      "metadata": {
        "id": "93JTsPDauSh4",
        "colab_type": "code",
        "colab": {}
      },
      "source": [
        "print(x[0:100])"
      ],
      "execution_count": 0,
      "outputs": []
    },
    {
      "cell_type": "code",
      "metadata": {
        "id": "QsSsiLaiQVTq",
        "colab_type": "code",
        "colab": {}
      },
      "source": [
        "# splitting the dataset into the train set and test set 70% train     and 30%\n",
        "from sklearn.model_selection import train_test_split\n",
        "x_train, x_test, y_train, y_test = train_test_split(x, y, test_size = 0.30, random_state = 0)"
      ],
      "execution_count": 0,
      "outputs": []
    },
    {
      "cell_type": "markdown",
      "metadata": {
        "id": "UIXVM4h7R5e-",
        "colab_type": "text"
      },
      "source": [
        "fit naive bayes classifier to the dataset train ,,\n"
      ]
    },
    {
      "cell_type": "code",
      "metadata": {
        "id": "lrzc-dWFuuhv",
        "colab_type": "code",
        "colab": {}
      },
      "source": [
        "from sklearn.naive_bayes import BernoulliNB"
      ],
      "execution_count": 0,
      "outputs": []
    },
    {
      "cell_type": "code",
      "metadata": {
        "id": "EDZtvMxJwGXV",
        "colab_type": "code",
        "colab": {}
      },
      "source": [
        "classifier = BernoulliNB().fit(x_train,y_train)"
      ],
      "execution_count": 0,
      "outputs": []
    },
    {
      "cell_type": "markdown",
      "metadata": {
        "id": "pN6v-bdrR7sx",
        "colab_type": "text"
      },
      "source": [
        "prediction model"
      ]
    },
    {
      "cell_type": "code",
      "metadata": {
        "id": "SgwTg847wsL3",
        "colab_type": "code",
        "colab": {}
      },
      "source": [
        "\n",
        "y_pred = classifier.predict(x_test)"
      ],
      "execution_count": 0,
      "outputs": []
    },
    {
      "cell_type": "markdown",
      "metadata": {
        "id": "bjCXZQd3SAp2",
        "colab_type": "text"
      },
      "source": [
        ""
      ]
    },
    {
      "cell_type": "code",
      "metadata": {
        "id": "XRU9Wz9ZwZGA",
        "colab_type": "code",
        "colab": {}
      },
      "source": [
        "from sklearn.metrics import confusion_matrix, accuracy_score\n",
        "cm = confusion_matrix(y_test, y_pred)    \n",
        "accuracy = accuracy_score(y_test, y_pred)\n",
        "print(cm)\n",
        "print(accuracy)"
      ],
      "execution_count": 0,
      "outputs": []
    },
    {
      "cell_type": "code",
      "metadata": {
        "id": "D20yDS6qwvxg",
        "colab_type": "code",
        "colab": {}
      },
      "source": [
        "print(y_pred)"
      ],
      "execution_count": 0,
      "outputs": []
    },
    {
      "cell_type": "code",
      "metadata": {
        "id": "Mx4KqfmQ1zpR",
        "colab_type": "code",
        "colab": {}
      },
      "source": [
        "y_pred = [\"Positive\" if i==1 else \"Negative\" if i==0  else \"net\"for i in y_pred]"
      ],
      "execution_count": 0,
      "outputs": []
    },
    {
      "cell_type": "code",
      "metadata": {
        "id": "6Pj_Iz-a3x6F",
        "colab_type": "code",
        "colab": {}
      },
      "source": [
        "print(y_pred)"
      ],
      "execution_count": 0,
      "outputs": []
    },
    {
      "cell_type": "code",
      "metadata": {
        "id": "5tzHdQwMwvwM",
        "colab_type": "code",
        "colab": {}
      },
      "source": [
        "print(x_test)"
      ],
      "execution_count": 0,
      "outputs": []
    },
    {
      "cell_type": "code",
      "metadata": {
        "id": "-3zTQrIS1Ku8",
        "colab_type": "code",
        "colab": {}
      },
      "source": [
        "from sklearn.ensemble import RandomForestClassifier\n",
        "classifier = RandomForestClassifier(n_estimators = 10, random_state = 0)\n",
        "classifier.fit(x_train, y_train)"
      ],
      "execution_count": 0,
      "outputs": []
    },
    {
      "cell_type": "code",
      "metadata": {
        "id": "L1QTAJT2zfP7",
        "colab_type": "code",
        "colab": {}
      },
      "source": [
        "y_pred = classifier.predict(x_test)"
      ],
      "execution_count": 0,
      "outputs": []
    },
    {
      "cell_type": "code",
      "metadata": {
        "id": "cpMLIIJc3NIO",
        "colab_type": "code",
        "colab": {}
      },
      "source": [
        "print(y_pred)"
      ],
      "execution_count": 0,
      "outputs": []
    },
    {
      "cell_type": "code",
      "metadata": {
        "id": "K7F3YGTi3NA8",
        "colab_type": "code",
        "colab": {}
      },
      "source": [
        "from sklearn.metrics import confusion_matrix, accuracy_score\n",
        "cm = confusion_matrix(y_test, y_pred)    \n",
        "accuracy = accuracy_score(y_test, y_pred)\n",
        "print(cm)\n",
        "print(accuracy)"
      ],
      "execution_count": 0,
      "outputs": []
    },
    {
      "cell_type": "code",
      "metadata": {
        "id": "8uH5IXLlFjYH",
        "colab_type": "code",
        "colab": {}
      },
      "source": [
        ""
      ],
      "execution_count": 0,
      "outputs": []
    },
    {
      "cell_type": "code",
      "metadata": {
        "id": "Df6UilYJ3qOT",
        "colab_type": "code",
        "colab": {}
      },
      "source": [
        "y_pred = [\"Positive\" if i==1 else \"Negative\" if i==0  else \"net\"for i in y_pred]"
      ],
      "execution_count": 0,
      "outputs": []
    },
    {
      "cell_type": "code",
      "metadata": {
        "id": "gRFXMtuH3s58",
        "colab_type": "code",
        "colab": {}
      },
      "source": [
        "print(y_pred)"
      ],
      "execution_count": 0,
      "outputs": []
    }
  ]
}