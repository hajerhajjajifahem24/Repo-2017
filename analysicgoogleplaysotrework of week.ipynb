{
  "nbformat": 4,
  "nbformat_minor": 0,
  "metadata": {
    "colab": {
      "name": "analysicgoogleplaysotre.ipynb",
      "provenance": [],
      "private_outputs": true,
      "collapsed_sections": [],
      "authorship_tag": "ABX9TyPfxwiOg4IbjqZyutVYw9w6",
      "include_colab_link": true
    },
    "kernelspec": {
      "name": "python3",
      "display_name": "Python 3"
    },
    "accelerator": "TPU"
  },
  "cells": [
    {
      "cell_type": "markdown",
      "metadata": {
        "id": "view-in-github",
        "colab_type": "text"
      },
      "source": [
        "<a href=\"https://colab.research.google.com/github/hajerhajjajifahem24/Repo-2017/blob/master/analysicgoogleplaysotrework%20of%20week.ipynb\" target=\"_parent\"><img src=\"https://colab.research.google.com/assets/colab-badge.svg\" alt=\"Open In Colab\"/></a>"
      ]
    },
    {
      "cell_type": "markdown",
      "metadata": {
        "id": "AE6HSF9GPAiS",
        "colab_type": "text"
      },
      "source": [
        "**importing libraries**\n",
        "\n",
        "```\n",
        "\n",
        "```\n",
        "\n"
      ]
    },
    {
      "cell_type": "code",
      "metadata": {
        "id": "S0yvYCY5gpj1",
        "colab_type": "code",
        "colab": {}
      },
      "source": [
        "!pip install -U scikit-learn\n"
      ],
      "execution_count": 0,
      "outputs": []
    },
    {
      "cell_type": "code",
      "metadata": {
        "id": "n61-tKrhc9pE",
        "colab_type": "code",
        "colab": {}
      },
      "source": [
        "import pandas as pd\n",
        "import numpy as np\n",
        "from sklearn.preprocessing import LabelEncoder  # lb_make.fittransform\n",
        "from sklearn.impute import SimpleImputer\n",
        "from sklearn.ensemble import RandomForestRegressor\n",
        "from sklearn.metrics import mean_absolute_error \n",
        "from sklearn.model_selection import train_test_split\n",
        "\n"
      ],
      "execution_count": 0,
      "outputs": []
    },
    {
      "cell_type": "markdown",
      "metadata": {
        "id": "oYo1penYPXF4",
        "colab_type": "text"
      },
      "source": [
        "**visulisation data**"
      ]
    },
    {
      "cell_type": "code",
      "metadata": {
        "id": "wv0GsDuHOPsM",
        "colab_type": "code",
        "colab": {}
      },
      "source": [
        "import matplotlib.pyplot as plt\n",
        "import seaborn as sns\n",
        "sns.set(style=\"darkgrid\")\n",
        "sns.set(font_scale=1.3)"
      ],
      "execution_count": 0,
      "outputs": []
    },
    {
      "cell_type": "markdown",
      "metadata": {
        "id": "YmuK6UHuPoYx",
        "colab_type": "text"
      },
      "source": [
        "**upload dataset google pllay store**"
      ]
    },
    {
      "cell_type": "code",
      "metadata": {
        "id": "GUY-XXGwc_N9",
        "colab_type": "code",
        "colab": {}
      },
      "source": [
        "from google.colab import files\n",
        "uploaded = files.upload()"
      ],
      "execution_count": 0,
      "outputs": []
    },
    {
      "cell_type": "markdown",
      "metadata": {
        "id": "8XJrXUhuPxPM",
        "colab_type": "text"
      },
      "source": [
        ""
      ]
    },
    {
      "cell_type": "code",
      "metadata": {
        "id": "Uk_KpBMKddd5",
        "colab_type": "code",
        "colab": {}
      },
      "source": [
        "!ls"
      ],
      "execution_count": 0,
      "outputs": []
    },
    {
      "cell_type": "markdown",
      "metadata": {
        "id": "UmgACoPKP0m9",
        "colab_type": "text"
      },
      "source": [
        "**read the datset**"
      ]
    },
    {
      "cell_type": "code",
      "metadata": {
        "id": "NdH83u-se9bW",
        "colab_type": "code",
        "colab": {}
      },
      "source": [
        "df = pd.read_csv('googleplaystore.csv')"
      ],
      "execution_count": 0,
      "outputs": []
    },
    {
      "cell_type": "markdown",
      "metadata": {
        "id": "C9nqPvoGRKaT",
        "colab_type": "text"
      },
      "source": [
        "afficher les dataset"
      ]
    },
    {
      "cell_type": "code",
      "metadata": {
        "id": "vQoTlekQfCO3",
        "colab_type": "code",
        "colab": {}
      },
      "source": [
        "df"
      ],
      "execution_count": 0,
      "outputs": []
    },
    {
      "cell_type": "markdown",
      "metadata": {
        "id": "wcI5Ndx9RPdf",
        "colab_type": "text"
      },
      "source": [
        "dim dataset"
      ]
    },
    {
      "cell_type": "code",
      "metadata": {
        "id": "i0SGOHl1fHZr",
        "colab_type": "code",
        "colab": {}
      },
      "source": [
        "df.shape"
      ],
      "execution_count": 0,
      "outputs": []
    },
    {
      "cell_type": "markdown",
      "metadata": {
        "id": "OiqJUJJIRaFj",
        "colab_type": "text"
      },
      "source": [
        "## ***Data Cleaning***"
      ]
    },
    {
      "cell_type": "markdown",
      "metadata": {
        "id": "WE2vYd5DRTbi",
        "colab_type": "text"
      },
      "source": [
        "**delelte the row duplicated **"
      ]
    },
    {
      "cell_type": "code",
      "metadata": {
        "id": "Sisdhx-Jhhyl",
        "colab_type": "code",
        "colab": {}
      },
      "source": [
        "df.duplicated(subset='App').value_counts()# trouve le nom des application "
      ],
      "execution_count": 0,
      "outputs": []
    },
    {
      "cell_type": "code",
      "metadata": {
        "id": "WgH8KzP9hr0B",
        "colab_type": "code",
        "colab": {}
      },
      "source": [
        "df.drop_duplicates(subset='App')"
      ],
      "execution_count": 0,
      "outputs": []
    },
    {
      "cell_type": "markdown",
      "metadata": {
        "id": "55Sz5a3bSlDE",
        "colab_type": "text"
      },
      "source": [
        "we do the step for taking the vesion  about the values of each col "
      ]
    },
    {
      "cell_type": "markdown",
      "metadata": {
        "id": "9Bwc0iVoR1iy",
        "colab_type": "text"
      },
      "source": [
        "**display and count each value of category**"
      ]
    },
    {
      "cell_type": "code",
      "metadata": {
        "id": "RxfgGYu8h9C3",
        "colab_type": "code",
        "colab": {}
      },
      "source": [
        "df.Category.value_counts(dropna=False)"
      ],
      "execution_count": 0,
      "outputs": []
    },
    {
      "cell_type": "markdown",
      "metadata": {
        "id": "GC5JsSerSQXR",
        "colab_type": "text"
      },
      "source": [
        "display installs value"
      ]
    },
    {
      "cell_type": "code",
      "metadata": {
        "id": "ugLESX59iUrr",
        "colab_type": "code",
        "colab": {}
      },
      "source": [
        "df.Installs.value_counts(dropna=False)"
      ],
      "execution_count": 0,
      "outputs": []
    },
    {
      "cell_type": "markdown",
      "metadata": {
        "id": "9m82GrAxSc8Z",
        "colab_type": "text"
      },
      "source": [
        "display the values of Genres "
      ]
    },
    {
      "cell_type": "code",
      "metadata": {
        "id": "oWT0wI6mi1tW",
        "colab_type": "code",
        "colab": {}
      },
      "source": [
        "df.Genres.value_counts(dropna=False)"
      ],
      "execution_count": 0,
      "outputs": []
    },
    {
      "cell_type": "markdown",
      "metadata": {
        "id": "pXQvcLMmVakE",
        "colab_type": "text"
      },
      "source": [
        "display the value of Price"
      ]
    },
    {
      "cell_type": "code",
      "metadata": {
        "id": "pJgQ9CcqjCwI",
        "colab_type": "code",
        "colab": {}
      },
      "source": [
        "df.Price.value_counts(dropna=False)"
      ],
      "execution_count": 0,
      "outputs": []
    },
    {
      "cell_type": "markdown",
      "metadata": {
        "id": "LmTIXkl0VhJ3",
        "colab_type": "text"
      },
      "source": [
        "the value\"varies must be drop"
      ]
    },
    {
      "cell_type": "code",
      "metadata": {
        "id": "nYiSLvNNjw5u",
        "colab_type": "code",
        "colab": {}
      },
      "source": [
        "df.Size.value_counts()"
      ],
      "execution_count": 0,
      "outputs": []
    },
    {
      "cell_type": "code",
      "metadata": {
        "id": "NVglL9qB62ak",
        "colab_type": "code",
        "colab": {}
      },
      "source": [
        "df.dtypes"
      ],
      "execution_count": 0,
      "outputs": []
    },
    {
      "cell_type": "code",
      "metadata": {
        "id": "_DfwoN_D7urP",
        "colab_type": "code",
        "colab": {}
      },
      "source": [
        "df['Size']"
      ],
      "execution_count": 0,
      "outputs": []
    },
    {
      "cell_type": "markdown",
      "metadata": {
        "id": "1yc_qfjzm3WP",
        "colab_type": "text"
      },
      "source": [
        "# **Rating**"
      ]
    },
    {
      "cell_type": "code",
      "metadata": {
        "id": "hVRQPc1mmthp",
        "colab_type": "code",
        "colab": {}
      },
      "source": [
        "data_rating= df[df['Rating'] == \"NaN\"]\n",
        "df.drop(data_rating.index, inplace=True)"
      ],
      "execution_count": 0,
      "outputs": []
    },
    {
      "cell_type": "markdown",
      "metadata": {
        "id": "LEZW-MU2VvFB",
        "colab_type": "text"
      },
      "source": [
        "drop the row when the value of size is varies with device"
      ]
    },
    {
      "cell_type": "code",
      "metadata": {
        "id": "pgEhYGmQ1n16",
        "colab_type": "code",
        "colab": {}
      },
      "source": [
        "data_size= df[df['Size'] == \"Varies with device\"]"
      ],
      "execution_count": 0,
      "outputs": []
    },
    {
      "cell_type": "code",
      "metadata": {
        "id": "cGH6tYRp8Qra",
        "colab_type": "code",
        "colab": {}
      },
      "source": [
        "df.drop(data_size.index, inplace=True)"
      ],
      "execution_count": 0,
      "outputs": []
    },
    {
      "cell_type": "code",
      "metadata": {
        "id": "bRv1Ij-B8Ju6",
        "colab_type": "code",
        "colab": {}
      },
      "source": [
        "data_size"
      ],
      "execution_count": 0,
      "outputs": []
    },
    {
      "cell_type": "markdown",
      "metadata": {
        "id": "9Qq-BuFS8fJH",
        "colab_type": "text"
      },
      "source": [
        ""
      ]
    },
    {
      "cell_type": "markdown",
      "metadata": {
        "id": "WWb97r6zWhNn",
        "colab_type": "text"
      },
      "source": [
        " delete all the leading , trailing and replacing characters mentioned in its argument."
      ]
    },
    {
      "cell_type": "code",
      "metadata": {
        "id": "ukHjsbic-BwE",
        "colab_type": "code",
        "colab": {}
      },
      "source": [
        "data_size_M= df[\"Size\"].apply(lambda x: str(x).strip('M'))"
      ],
      "execution_count": 0,
      "outputs": []
    },
    {
      "cell_type": "code",
      "metadata": {
        "id": "O11p4-Ae-Z-l",
        "colab_type": "code",
        "colab": {}
      },
      "source": [
        "print(data_size_M)"
      ],
      "execution_count": 0,
      "outputs": []
    },
    {
      "cell_type": "code",
      "metadata": {
        "id": "lNJvJstK-Z3r",
        "colab_type": "code",
        "colab": {}
      },
      "source": [
        ""
      ],
      "execution_count": 0,
      "outputs": []
    },
    {
      "cell_type": "code",
      "metadata": {
        "id": "aMddmSj28XSF",
        "colab_type": "code",
        "colab": {}
      },
      "source": [
        "\n",
        "df[\"Size\"] = df[\"Size\"].apply(lambda x: str(x).strip('M').replace('M', '000000'))"
      ],
      "execution_count": 0,
      "outputs": []
    },
    {
      "cell_type": "code",
      "metadata": {
        "id": "mD59kKJI-_SR",
        "colab_type": "code",
        "colab": {}
      },
      "source": [
        "df_size_K = df[\"Size\"].apply(lambda x: str(x).strip('K'))"
      ],
      "execution_count": 0,
      "outputs": []
    },
    {
      "cell_type": "code",
      "metadata": {
        "id": "eQuw420s_LIT",
        "colab_type": "code",
        "colab": {}
      },
      "source": [
        "df_size_K"
      ],
      "execution_count": 0,
      "outputs": []
    },
    {
      "cell_type": "code",
      "metadata": {
        "id": "lrvIoaLs-yN4",
        "colab_type": "code",
        "colab": {}
      },
      "source": [
        "df[\"Size\"] = df[\"Size\"].apply(lambda x: str(x).strip('M').replace('k', '000'))"
      ],
      "execution_count": 0,
      "outputs": []
    },
    {
      "cell_type": "code",
      "metadata": {
        "colab_type": "code",
        "id": "UG5RfiRnevY2",
        "colab": {}
      },
      "source": [
        ""
      ],
      "execution_count": 0,
      "outputs": []
    },
    {
      "cell_type": "code",
      "metadata": {
        "id": "HUNFVaXx_ytc",
        "colab_type": "code",
        "colab": {}
      },
      "source": [
        "df[\"Size\"]"
      ],
      "execution_count": 0,
      "outputs": []
    },
    {
      "cell_type": "code",
      "metadata": {
        "id": "uzCR92FX_8F3",
        "colab_type": "code",
        "colab": {}
      },
      "source": [
        "df.dtypes"
      ],
      "execution_count": 0,
      "outputs": []
    },
    {
      "cell_type": "code",
      "metadata": {
        "id": "lpcse5enAEs_",
        "colab_type": "code",
        "colab": {}
      },
      "source": [
        ""
      ],
      "execution_count": 0,
      "outputs": []
    },
    {
      "cell_type": "markdown",
      "metadata": {
        "id": "sjNxNW2df8UJ",
        "colab_type": "text"
      },
      "source": [
        "clean the col installs delelte + ; , and word free"
      ]
    },
    {
      "cell_type": "code",
      "metadata": {
        "id": "quylSNxaCJig",
        "colab_type": "code",
        "colab": {}
      },
      "source": [
        "df.Installs.unique()"
      ],
      "execution_count": 0,
      "outputs": []
    },
    {
      "cell_type": "code",
      "metadata": {
        "id": "tCLA-qYxgM82",
        "colab_type": "code",
        "colab": {}
      },
      "source": [
        "data_ins_free= df[df['Installs'] == \"Free\"]\n",
        "df.drop(data_ins_free.index, inplace=True)"
      ],
      "execution_count": 0,
      "outputs": []
    },
    {
      "cell_type": "code",
      "metadata": {
        "id": "K3trOzIrC2wf",
        "colab_type": "code",
        "colab": {}
      },
      "source": [
        "df['Installs'] = df['Installs'].apply(lambda x: str(x).strip('+').replace('+', ''))\n",
        "df['Installs'] = df['Installs'].apply(lambda x: str(x).strip(',').replace(',', ''))"
      ],
      "execution_count": 0,
      "outputs": []
    },
    {
      "cell_type": "code",
      "metadata": {
        "id": "VgyW4N_TN8Uk",
        "colab_type": "code",
        "colab": {}
      },
      "source": [
        ""
      ],
      "execution_count": 0,
      "outputs": []
    },
    {
      "cell_type": "code",
      "metadata": {
        "id": "e8Mn0y7pDE3V",
        "colab_type": "code",
        "colab": {}
      },
      "source": [
        "df.Installs.unique()"
      ],
      "execution_count": 0,
      "outputs": []
    },
    {
      "cell_type": "markdown",
      "metadata": {
        "id": "ZE1ZRdVkgy8X",
        "colab_type": "text"
      },
      "source": [
        " clean col *price* : delete the symbole $ and replace by''"
      ]
    },
    {
      "cell_type": "code",
      "metadata": {
        "id": "oJKiRvc6DX-z",
        "colab_type": "code",
        "colab": {}
      },
      "source": [
        "df.Price.unique()"
      ],
      "execution_count": 0,
      "outputs": []
    },
    {
      "cell_type": "code",
      "metadata": {
        "id": "OslkYOMxDyO1",
        "colab_type": "code",
        "colab": {}
      },
      "source": [
        "d_price= df[\"Price\"].apply(lambda x: str(x).strip('$'))"
      ],
      "execution_count": 0,
      "outputs": []
    },
    {
      "cell_type": "code",
      "metadata": {
        "id": "isUyQ017D-Er",
        "colab_type": "code",
        "colab": {}
      },
      "source": [
        "d_price"
      ],
      "execution_count": 0,
      "outputs": []
    },
    {
      "cell_type": "code",
      "metadata": {
        "id": "yimHHsFSDoEO",
        "colab_type": "code",
        "colab": {}
      },
      "source": [
        "df[\"Price\"] = df[\"Price\"].apply(lambda x: str(x).strip('$').replace('$', '')).astype(float)\n"
      ],
      "execution_count": 0,
      "outputs": []
    },
    {
      "cell_type": "markdown",
      "metadata": {
        "id": "XKVZXCgghGrv",
        "colab_type": "text"
      },
      "source": [
        "clean the col content rating "
      ]
    },
    {
      "cell_type": "code",
      "metadata": {
        "id": "1P3B6P3ZFITm",
        "colab_type": "code",
        "colab": {}
      },
      "source": [
        "df[\"Content Rating\"].unique()\n"
      ],
      "execution_count": 0,
      "outputs": []
    },
    {
      "cell_type": "code",
      "metadata": {
        "id": "Uz3hsNqvEeAb",
        "colab_type": "code",
        "colab": {}
      },
      "source": [
        "data_rating_un = df[df['Content Rating'] == \"Unrated\"]\n",
        "df.drop(data_rating_un.index, inplace=True)"
      ],
      "execution_count": 0,
      "outputs": []
    },
    {
      "cell_type": "code",
      "metadata": {
        "id": "ErwoWOoKmTFz",
        "colab_type": "code",
        "colab": {}
      },
      "source": [
        ""
      ],
      "execution_count": 0,
      "outputs": []
    },
    {
      "cell_type": "markdown",
      "metadata": {
        "id": "YIhxF6YhhPpb",
        "colab_type": "text"
      },
      "source": [
        "clean the col current version"
      ]
    },
    {
      "cell_type": "code",
      "metadata": {
        "id": "R8jfl5UsFxzm",
        "colab_type": "code",
        "colab": {}
      },
      "source": [
        "df['Current Ver'].unique()"
      ],
      "execution_count": 0,
      "outputs": []
    },
    {
      "cell_type": "code",
      "metadata": {
        "id": "mwIpGpLgGI_1",
        "colab_type": "code",
        "colab": {}
      },
      "source": [
        "data_varies = df[df['Current Ver'] == \"Varies with device\"]\n",
        "df.drop(data_varies.index, inplace=True)"
      ],
      "execution_count": 0,
      "outputs": []
    },
    {
      "cell_type": "markdown",
      "metadata": {
        "id": "TddEnbYGhapk",
        "colab_type": "text"
      },
      "source": [
        "clean col genres"
      ]
    },
    {
      "cell_type": "code",
      "metadata": {
        "id": "ek0ys17kJRmP",
        "colab_type": "code",
        "colab": {}
      },
      "source": [
        "df.Genres.unique()"
      ],
      "execution_count": 0,
      "outputs": []
    },
    {
      "cell_type": "markdown",
      "metadata": {
        "id": "eSvAPpJ1he95",
        "colab_type": "text"
      },
      "source": [
        "delelet and replace symbole \"&\""
      ]
    },
    {
      "cell_type": "code",
      "metadata": {
        "id": "0es54sWAJfGi",
        "colab_type": "code",
        "colab": {}
      },
      "source": [
        "df['Genres'] = df['Genres'].apply(lambda x: str(x).strip('&').replace('&', ' and'))\n"
      ],
      "execution_count": 0,
      "outputs": []
    },
    {
      "cell_type": "code",
      "metadata": {
        "id": "iU0g3bRiJ0Az",
        "colab_type": "code",
        "colab": {}
      },
      "source": [
        "df['Genres']"
      ],
      "execution_count": 0,
      "outputs": []
    },
    {
      "cell_type": "markdown",
      "metadata": {
        "id": "9wgrweuNvJud",
        "colab_type": "text"
      },
      "source": [
        "convert to data type"
      ]
    },
    {
      "cell_type": "code",
      "metadata": {
        "id": "3ojo5MUMu8lV",
        "colab_type": "code",
        "colab": {}
      },
      "source": [
        "\n",
        "df['Last Updated'] = pd.to_datetime(df['Last Updated'])\n"
      ],
      "execution_count": 0,
      "outputs": []
    },
    {
      "cell_type": "code",
      "metadata": {
        "id": "cDlD88Iou77G",
        "colab_type": "code",
        "colab": {}
      },
      "source": [
        "df['Last Updated'] \n"
      ],
      "execution_count": 0,
      "outputs": []
    },
    {
      "cell_type": "code",
      "metadata": {
        "id": "23tN7jYBI3wb",
        "colab_type": "code",
        "colab": {}
      },
      "source": [
        "df.head()"
      ],
      "execution_count": 0,
      "outputs": []
    },
    {
      "cell_type": "markdown",
      "metadata": {
        "id": "H3zPdUA3HL13",
        "colab_type": "text"
      },
      "source": [
        "exploratory df analysis\n"
      ]
    },
    {
      "cell_type": "markdown",
      "metadata": {
        "id": "zejRnd1DwvuB",
        "colab_type": "text"
      },
      "source": [
        ""
      ]
    },
    {
      "cell_type": "code",
      "metadata": {
        "id": "iyiWxLNRwV56",
        "colab_type": "code",
        "colab": {}
      },
      "source": [
        "df.describe()"
      ],
      "execution_count": 0,
      "outputs": []
    },
    {
      "cell_type": "code",
      "metadata": {
        "id": "Gvn7Wxur_iHC",
        "colab_type": "code",
        "colab": {}
      },
      "source": [
        "fig, ax = plt.subplots(figsize=(10, 10), subplot_kw=dict(aspect=\"equal\"))\n",
        "number_app= df[\"Category\"].value_counts()\n",
        "labels = number_app.index\n",
        "sizes = number_app.values\n",
        "print(len(number_app))\n",
        "\n",
        "ax.pie(sizes , labeldistance=2, autopct='%10.1f%%')\n",
        "ax.legend(labels=labels,loc=\"right\",bbox_to_anchor=(0.9, 0, 0.5, 1))\n",
        "ax.axis(\"equal\")\n",
        "plt.show()"
      ],
      "execution_count": 0,
      "outputs": []
    },
    {
      "cell_type": "code",
      "metadata": {
        "id": "12tIyUtRGmBN",
        "colab_type": "code",
        "colab": {}
      },
      "source": [
        "sns.set(style=\"darkgrid\")\n",
        "sns.set(font_scale=1.3)\n",
        "sns.factorplot(x=\"Type\", data=df, kind=\"count\", size=10, aspect=1.5, palette=\"cubehelix\")\n",
        "plt.show();"
      ],
      "execution_count": 0,
      "outputs": []
    },
    {
      "cell_type": "markdown",
      "metadata": {
        "id": "w69mYCQ53_k0",
        "colab_type": "text"
      },
      "source": [
        "build pie chart for plot free and app for each category"
      ]
    },
    {
      "cell_type": "code",
      "metadata": {
        "id": "qS4Bdu_1yZc-",
        "colab_type": "code",
        "colab": {}
      },
      "source": [
        "\n",
        "#  create new col cat num  for convert the category to  number convert each row  to number\n",
        "#we want to do a label encoding on the make of the category   example art   code to 0\n",
        "lb_make = LabelEncoder()\n",
        "df[\"Category NUM\"] = lb_make.fit_transform(df[\"Category\"])\n",
        "# Form dicitonary for Category and numeric values\n",
        "#build dict for category \n",
        "\n",
        "dict_category = {}\n",
        "val = 0\n",
        "for i in df[\"Category\"].unique():\n",
        " dict_category[i] = val\n",
        " val += 1"
      ],
      "execution_count": 0,
      "outputs": []
    },
    {
      "cell_type": "code",
      "metadata": {
        "id": "0R4DlUe60Q2p",
        "colab_type": "code",
        "colab": {}
      },
      "source": [
        "df[\"Category NUM\"].unique"
      ],
      "execution_count": 0,
      "outputs": []
    },
    {
      "cell_type": "code",
      "metadata": {
        "id": "FE3LEto30nwP",
        "colab_type": "code",
        "colab": {}
      },
      "source": [
        "dict_category"
      ],
      "execution_count": 0,
      "outputs": []
    },
    {
      "cell_type": "markdown",
      "metadata": {
        "id": "L6AHG7xL2QQI",
        "colab_type": "text"
      },
      "source": [
        "build pie chart to plot  free and paid app for each  category"
      ]
    },
    {
      "cell_type": "code",
      "metadata": {
        "id": "4xn2z4pOwbGW",
        "colab_type": "code",
        "colab": {}
      },
      "source": [
        "# piecategory\n",
        "value_category = np.zeros(33)\n",
        "labels_category = df['Category'].unique()\n",
        "for i in range(len(df['Category'])):\n",
        " try:\n",
        "  value = df['Category'][i]\n",
        "  num = dict_category[value]\n",
        "  value_category[num] = value_category[num] + 1\n",
        " except:\n",
        "  pass\n",
        "#  count free and paid for each categort \n",
        "free_paid_list = [] \n",
        "\n",
        "for j in labels_category:\n",
        " free_count = 0\n",
        " paid_count = 0\n",
        " for i in range(len(df['Type'])):\n",
        "  try:\n",
        "   if df['Category'][i] == j:\n",
        "    if df['Type'][i] == \"Free\":\n",
        "     free_count += 1\n",
        "    if df['Type'][i] == \"Paid\":\n",
        "     paid_count += 1\n",
        "  except:\n",
        "   pass   \n",
        " free_paid_list.append(free_count)\n",
        " free_paid_list.append(paid_count)\n",
        "colors_free_paid = []\n",
        "free_color = \"#2a57c6\" # blue color\n",
        "paid_color = \"#ee4343\" # red colro\n",
        "for i in range(int(len(free_paid_list)/2)):\n",
        "  #ajouter to colors arry\n",
        " colors_free_paid.append(free_color)\n",
        " colors_free_paid.append(paid_color)\n",
        "plt.axis(\"equal\")\n",
        "plt.pie(value_category, labels=labels_category, radius=5, autopct='%0.2f%%', rotatelabels=True, pctdistance=1.1, labeldistance=1.2)\n",
        "plt.pie(free_paid_list, colors=colors_free_paid, radius=4.25, autopct='%0.2f%%', pctdistance=1.0)\n",
        "centre_circle = plt.Circle((0,0),1.0,color='black', fc='white')\n",
        "fig = plt.gcf()\n",
        "fig.gca().add_artist(centre_circle)\n",
        "plt.tight_layout()\n",
        "plt.show()"
      ],
      "execution_count": 0,
      "outputs": []
    },
    {
      "cell_type": "code",
      "metadata": {
        "id": "B_sNhMThID1T",
        "colab_type": "code",
        "colab": {}
      },
      "source": [
        "# Plot Univariate distribution for Ratings using histogram. It will show the total number or app according to the ratings.\n",
        "# Total number of app acccording to  the ratings\n",
        "plt.figure(figsize= (15, 10));\n",
        "#plt.hist(x=df.Rating, color='c');\n",
        "df.Rating.plot(kind=\"hist\", bins=30, color='c')\n",
        "plt.title(\"Univariate: Rating Histogram\");\n",
        "plt.xlabel(\"Rating\");\n",
        "plt.ylabel(\"Total Counts\");\n",
        "plt.xlim(right=6)\n",
        "plt.plot();"
      ],
      "execution_count": 0,
      "outputs": []
    },
    {
      "cell_type": "code",
      "metadata": {
        "id": "Wr2ClUpnINQZ",
        "colab_type": "code",
        "colab": {}
      },
      "source": [
        "# lets plot it.\n",
        "plt.figure(figsize=(15,10))\n",
        "df.Category.value_counts().plot(kind=\"bar\", rot=0, title=\"Pclass Vs Count\", color='c', );\n",
        "plt.xticks(rotation='vertical');\n",
        "plt.title(\"Category Vs App Count\")\n",
        "plt.xlabel(\"Category Name\")\n",
        "plt.ylabel(\"Count\")\n",
        "plt.plot();"
      ],
      "execution_count": 0,
      "outputs": []
    },
    {
      "cell_type": "code",
      "metadata": {
        "id": "h6aK89TRIWLx",
        "colab_type": "code",
        "colab": {}
      },
      "source": [
        "plt.figure(figsize=(15,10))\n",
        "df.groupby([\"Category\"]).Rating.mean().plot(kind=\"bar\", rot=0, title=\"Pclass Vs Count\");\n",
        "plt.xticks(rotation='vertical');\n",
        "plt.xlabel(\"Category Name\")\n",
        "plt.ylabel(\"Avg. Rating\")\n",
        "plt.title(\"Category Vs Avg. Rating\")\n",
        "plt.plot();"
      ],
      "execution_count": 0,
      "outputs": []
    },
    {
      "cell_type": "code",
      "metadata": {
        "id": "YmjqKWDMIkFD",
        "colab_type": "code",
        "colab": {}
      },
      "source": [
        "plt.figure(figsize=(15, 10));\n",
        "df.Type.value_counts().plot(kind=\"bar\");\n",
        "plt.xlabel(\"License Type\");\n",
        "plt.ylabel(\"Counts\")\n",
        "plt.title(\"License Type Vs Counts\")\n",
        "plt.plot();"
      ],
      "execution_count": 0,
      "outputs": []
    },
    {
      "cell_type": "code",
      "metadata": {
        "id": "Ie7BHB-QIr_F",
        "colab_type": "code",
        "colab": {}
      },
      "source": [
        "plt.figure(figsize=(15, 10), dpi=100, );\n",
        "df[\"Content Rating\"].value_counts().plot(kind=\"bar\");\n",
        "plt.title(\"Content Vs Total Count\");\n",
        "plt.xlabel(\"Content Type\");\n",
        "plt.ylabel(\"Count\");\n",
        "plt.ylim(bottom=-10);\n",
        "plt.plot();"
      ],
      "execution_count": 0,
      "outputs": []
    },
    {
      "cell_type": "code",
      "metadata": {
        "id": "BMLsnIKWI0Mm",
        "colab_type": "code",
        "colab": {}
      },
      "source": [
        "plt.figure(figsize=(15, 10));\n",
        "plt.xlabel(\"Anroid Version\");\n",
        "plt.ylabel(\"Total Apps\");\n",
        "plt.title(\"Android Version Vs Total Conts\");\n",
        "df[\"Android Ver\"].value_counts().plot(kind=\"bar\");\n",
        "plt.plot();"
      ],
      "execution_count": 0,
      "outputs": []
    },
    {
      "cell_type": "code",
      "metadata": {
        "id": "8KEOqcW0JFNq",
        "colab_type": "code",
        "colab": {}
      },
      "source": [
        "# Lets plot top 10 genres\n",
        "plt.figure(figsize=(15, 10));\n",
        "df[\"Genres\"].value_counts().head(10).plot(kind=\"bar\");\n",
        "#df.groupby([\"Genres\"])..head(10).plot(kind=\"bar\");\n",
        "plt.title(\"Top 10 Genres\");\n",
        "plt.xlabel(\"Genres\");\n",
        "plt.ylabel(\"Count\");\n",
        "plt.plot();"
      ],
      "execution_count": 0,
      "outputs": []
    },
    {
      "cell_type": "code",
      "metadata": {
        "id": "s5pLsaCoJ2aZ",
        "colab_type": "code",
        "colab": {}
      },
      "source": [
        "# We can see we have android ver for both of the records. Lets see a crosstab for android ver and current ver\n",
        "pd.crosstab(df[(df['Current Ver'] == '4.4')]['Current Ver'], df[(df['Current Ver'] == '4.4')][\"Android Ver\"])"
      ],
      "execution_count": 0,
      "outputs": []
    },
    {
      "cell_type": "code",
      "metadata": {
        "id": "rrEm53piKJu1",
        "colab_type": "code",
        "colab": {}
      },
      "source": [
        "pd.crosstab(df[(df['Current Ver'] == '4.4')]['Current Ver'], df['Android Ver']).plot(kind='bar', figsize=(15, 10))\n"
      ],
      "execution_count": 0,
      "outputs": []
    },
    {
      "cell_type": "code",
      "metadata": {
        "id": "gW5Dke_SKP2w",
        "colab_type": "code",
        "colab": {}
      },
      "source": [
        "pd.options.display.max_rows  = 15  # it will display always 15 rows.\n"
      ],
      "execution_count": 0,
      "outputs": []
    },
    {
      "cell_type": "code",
      "metadata": {
        "id": "Y5-gl32pKfYB",
        "colab_type": "code",
        "colab": {}
      },
      "source": [
        "# lets fetch all the missing value rows for Rating\n",
        "df[df[\"Rating\"].isnull()] # there are total 1474 rows"
      ],
      "execution_count": 0,
      "outputs": []
    },
    {
      "cell_type": "markdown",
      "metadata": {
        "id": "CVIAxqFAWQkg",
        "colab_type": "text"
      },
      "source": [
        "**work of week** I  italicized text **bold text**\n",
        "# New Section\n",
        " this week I was work  the following task:\n",
        "\n",
        "\n",
        "1.   sort category by installs \n",
        "2.   sort category by rating\n",
        "3. display the top application by hot rating \n",
        "4.display the toop appplication by hot installs\n",
        "5.[plot category game and fammily by totale of intsalls mean rating \n",
        "6.plot category education and family by totale of installs and rating\n",
        "7.plot different version of android  for category and genres by rating\n",
        "8.plot total of number of application for each android version\n",
        "9.plot the reviews for each genres \n",
        "10.plot each category content rating \n",
        "\n",
        "\n",
        "\n",
        "---\n",
        "\n",
        "\n",
        "\n",
        "\n",
        "\n",
        "\n"
      ]
    },
    {
      "cell_type": "markdown",
      "metadata": {
        "id": "cFb46OeZyz61",
        "colab_type": "text"
      },
      "source": [
        "I was developer def for col by another col"
      ]
    },
    {
      "cell_type": "code",
      "metadata": {
        "id": "uSf_uT9VXPmW",
        "colab_type": "code",
        "colab": {}
      },
      "source": [
        "copy_dataset = df.copy()"
      ],
      "execution_count": 0,
      "outputs": []
    },
    {
      "cell_type": "markdown",
      "metadata": {
        "id": "Cql2aNY_zkq3",
        "colab_type": "text"
      },
      "source": [
        "sort category by intstalls"
      ]
    },
    {
      "cell_type": "code",
      "metadata": {
        "id": "7oK6uOYhy8dS",
        "colab_type": "code",
        "colab": {}
      },
      "source": [
        ""
      ],
      "execution_count": 0,
      "outputs": []
    },
    {
      "cell_type": "code",
      "metadata": {
        "id": "wdyaRRm1WPHQ",
        "colab_type": "code",
        "colab": {}
      },
      "source": [
        "def sort_col(a,b):\n",
        "    dfcopy = copy_dataset.groupby(a)[b].count()\n",
        "    dfcopy = dfcopy.reset_index()\n",
        "    dfcopy = dfcopy.sort_values(by=[b])\n",
        "    return dfcopy.plot.barh(x=a,y=b, figsize = (12,10))"
      ],
      "execution_count": 0,
      "outputs": []
    },
    {
      "cell_type": "code",
      "metadata": {
        "id": "ew48CrHRW_nW",
        "colab_type": "code",
        "colab": {}
      },
      "source": [
        "sort_col('Category','Installs')"
      ],
      "execution_count": 0,
      "outputs": []
    },
    {
      "cell_type": "markdown",
      "metadata": {
        "id": "fX-QyG6IzpMK",
        "colab_type": "text"
      },
      "source": [
        "sort category  by rating "
      ]
    },
    {
      "cell_type": "code",
      "metadata": {
        "id": "lor1cwPCXeQu",
        "colab_type": "code",
        "colab": {}
      },
      "source": [
        "dfapp=df.App[0:100]"
      ],
      "execution_count": 0,
      "outputs": []
    },
    {
      "cell_type": "code",
      "metadata": {
        "id": "WwUo1PsRYuIj",
        "colab_type": "code",
        "colab": {}
      },
      "source": [
        "dfapp"
      ],
      "execution_count": 0,
      "outputs": []
    },
    {
      "cell_type": "code",
      "metadata": {
        "id": "uZ1RLhm_XjMH",
        "colab_type": "code",
        "colab": {}
      },
      "source": [
        "count_relationship('Category','Rating')"
      ],
      "execution_count": 0,
      "outputs": []
    },
    {
      "cell_type": "markdown",
      "metadata": {
        "id": "lrA6ef-yWSBX",
        "colab_type": "text"
      },
      "source": [
        "sort app by rating"
      ]
    },
    {
      "cell_type": "code",
      "metadata": {
        "id": "HwazH9b3f6fB",
        "colab_type": "code",
        "colab": {}
      },
      "source": [
        "df.sort_values([\"Rating\"], axis = 0, ascending = False, \n",
        "                 inplace =True , na_position ='first')"
      ],
      "execution_count": 0,
      "outputs": []
    },
    {
      "cell_type": "code",
      "metadata": {
        "id": "W_eebMMEnqq5",
        "colab_type": "code",
        "colab": {}
      },
      "source": [
        "df = df[pd.notnull(df['Rating'])]"
      ],
      "execution_count": 0,
      "outputs": []
    },
    {
      "cell_type": "code",
      "metadata": {
        "id": "uH7xw1gWhYy8",
        "colab_type": "code",
        "colab": {}
      },
      "source": [
        "dfapp = pd.concat([df.App, df.Rating], axis = 1)"
      ],
      "execution_count": 0,
      "outputs": []
    },
    {
      "cell_type": "code",
      "metadata": {
        "id": "66RkuBEOjUGW",
        "colab_type": "code",
        "colab": {}
      },
      "source": [
        "dfapp"
      ],
      "execution_count": 0,
      "outputs": []
    },
    {
      "cell_type": "markdown",
      "metadata": {
        "id": "1J2SINTg1DpM",
        "colab_type": "text"
      },
      "source": [
        "sort app"
      ]
    },
    {
      "cell_type": "code",
      "metadata": {
        "id": "baCciRXD0WWK",
        "colab_type": "code",
        "colab": {}
      },
      "source": [
        "df.sort_values([\"Installs\"], axis = 0, ascending = False, \n",
        "                 inplace =True , na_position ='first')"
      ],
      "execution_count": 0,
      "outputs": []
    },
    {
      "cell_type": "code",
      "metadata": {
        "id": "L48oLcPk02_W",
        "colab_type": "code",
        "colab": {}
      },
      "source": [
        "df.drop_duplicates(subset='App')\n",
        "dfapp = pd.concat([df.App, df.Installs], axis = 1)\n",
        "dfapp.head(10)"
      ],
      "execution_count": 0,
      "outputs": []
    },
    {
      "cell_type": "code",
      "metadata": {
        "id": "xl3Vyfpnsd2x",
        "colab_type": "code",
        "colab": {}
      },
      "source": [
        "df.drop_duplicates(subset='Installs')"
      ],
      "execution_count": 0,
      "outputs": []
    },
    {
      "cell_type": "markdown",
      "metadata": {
        "id": "SdRKyPi8mK5B",
        "colab_type": "text"
      },
      "source": [
        ""
      ]
    },
    {
      "cell_type": "code",
      "metadata": {
        "id": "5CupuBaQmLO3",
        "colab_type": "code",
        "colab": {}
      },
      "source": [
        "df['Installs'].astype(int)"
      ],
      "execution_count": 0,
      "outputs": []
    },
    {
      "cell_type": "code",
      "metadata": {
        "id": "2HuywdazqJUs",
        "colab_type": "code",
        "colab": {}
      },
      "source": [
        "df['Category']"
      ],
      "execution_count": 0,
      "outputs": []
    },
    {
      "cell_type": "code",
      "metadata": {
        "id": "YuBXXIefvniI",
        "colab_type": "code",
        "colab": {}
      },
      "source": [
        "convert_dict = {'Installs': int, \n",
        "                'Reviews': int\n",
        "               \n",
        "               } \n",
        "df = df.astype(convert_dict) \n",
        "print(df.dtypes)               \n"
      ],
      "execution_count": 0,
      "outputs": []
    },
    {
      "cell_type": "markdown",
      "metadata": {
        "id": "MjGFvM3j1rAw",
        "colab_type": "text"
      },
      "source": [
        "[plot category game and fammily ](https:// [link text](https://))"
      ]
    },
    {
      "cell_type": "code",
      "metadata": {
        "id": "foLr3WzDtoUU",
        "colab_type": "code",
        "colab": {}
      },
      "source": [
        "fig, axarr = plt.subplots(4, 2, figsize=(26, 15))\n",
        "plt.subplots_adjust(top=1.2, hspace=0.5)\n",
        "\n",
        "for i,col in enumerate(['GAME','FAMILY']):\n",
        "    axarr[0][i].set_title(col)\n",
        "    axarr[0][i].set(ylabel = 'Number of Apps' )\n",
        "    axarr[1][i].set(ylabel = 'Total Installs')\n",
        "    axarr[2][i].set(ylabel = 'Average Ratings')\n",
        "    axarr[3][i].set(ylabel = 'Number of people who rated')\n",
        "    copy_dataset[copy_dataset['Category'] == col].groupby('Genres')['Installs'].count().plot.bar(ax = axarr[0][i])\n",
        "    #copy_dataset[copy_dataset['Category'] == col].groupby('Genres')['Installs'].sum().plot.bar(ax = axarr[1][i])    \n",
        "    copy_dataset[copy_dataset['Category'] == col].groupby('Genres')['Rating'].mean().plot.bar(ax = axarr[2][i])\n",
        "    copy_dataset[copy_dataset['Category'] == col].groupby('Genres')['Rating'].count().plot.bar(ax = axarr[3][i]) "
      ],
      "execution_count": 0,
      "outputs": []
    },
    {
      "cell_type": "markdown",
      "metadata": {
        "id": "uWfRTEAO18hu",
        "colab_type": "text"
      },
      "source": [
        "plot category education and fammily "
      ]
    },
    {
      "cell_type": "code",
      "metadata": {
        "id": "XR90ZKM8qqyk",
        "colab_type": "code",
        "colab": {}
      },
      "source": [
        "\n",
        "fig, axarr = plt.subplots(4, 2, figsize=(26, 15))\n",
        "plt.subplots_adjust(top=1.2, hspace=0.5)\n",
        "\n",
        "for i,col in enumerate(['GAME','EDUCATION']):\n",
        "    axarr[0][i].set_title(col)\n",
        "    axarr[0][i].set(ylabel = 'Number of Apps' )\n",
        "    axarr[1][i].set(ylabel = 'Total Installs')\n",
        "    axarr[2][i].set(ylabel = 'Average Ratings')\n",
        "    axarr[3][i].set(ylabel = 'Number of people who rated')\n",
        "    copy_dataset[copy_dataset['Category'] == col].groupby('Genres')['Installs'].count().plot.bar(ax = axarr[0][i])\n",
        "    #copy_dataset[copy_dataset['Category'] == col].groupby('Genres')['Installs'].sum().plot.bar(ax = axarr[1][i])    \n",
        "    copy_dataset[copy_dataset['Category'] == col].groupby('Genres')['Rating'].mean().plot.bar(ax = axarr[2][i])\n",
        "    copy_dataset[copy_dataset['Category'] == col].groupby('Genres')['Rating'].count().plot.bar(ax = axarr[3][i])"
      ],
      "execution_count": 0,
      "outputs": []
    },
    {
      "cell_type": "markdown",
      "metadata": {
        "id": "RnNp5FCk2DZA",
        "colab_type": "text"
      },
      "source": [
        "plot type of application is paid by category and genres with foreach different rating  sort by rating "
      ]
    },
    {
      "cell_type": "code",
      "metadata": {
        "id": "BRCrgsP-nmnk",
        "colab_type": "code",
        "colab": {}
      },
      "source": [
        "plt.figure(figsize=(12,6))\n",
        "pd.DataFrame(copy_dataset[copy_dataset['Type'] == 'Paid'].groupby(['Category','Genres']).mean()['Rating'] ).sort_values(['Rating'],ascending = False).plot.bar(figsize=(24,6))   \n",
        "plt.title('Ratings of Paid Apps Grouped by Category and Genres')"
      ],
      "execution_count": 0,
      "outputs": []
    },
    {
      "cell_type": "markdown",
      "metadata": {
        "id": "j5Jg53cM2Y6u",
        "colab_type": "text"
      },
      "source": [
        "[plot different version of android  for category and genres by rating\n",
        "\n",
        "---\n",
        "\n",
        "\n",
        "\n",
        "---\n",
        "\n",
        "](https://)"
      ]
    },
    {
      "cell_type": "code",
      "metadata": {
        "id": "AmhIeDIenzPg",
        "colab_type": "code",
        "colab": {}
      },
      "source": [
        "plt.figure(figsize=(12,6))\n",
        "pd.DataFrame(copy_dataset[copy_dataset['Android Ver'] == '5.0 and up'].groupby(['Category','Genres']).mean()['Rating'] ).sort_values(['Rating'],ascending = False).plot.bar(figsize=(24,6))   \n",
        "plt.title('Ratings of android ver 5.0 up  Apps Grouped by Category and Genres')"
      ],
      "execution_count": 0,
      "outputs": []
    },
    {
      "cell_type": "markdown",
      "metadata": {
        "id": "RB_pnTAv2sG2",
        "colab_type": "text"
      },
      "source": [
        ""
      ]
    },
    {
      "cell_type": "markdown",
      "metadata": {
        "id": "HStBGxy-290w",
        "colab_type": "text"
      },
      "source": [
        "plot total of number of application for each android version[link text](https://)"
      ]
    },
    {
      "cell_type": "code",
      "metadata": {
        "id": "HsFFJo5cr-HV",
        "colab_type": "code",
        "colab": {}
      },
      "source": [
        "plt.figure(figsize=(15, 10));\n",
        "plt.xlabel(\"anroid Version\");\n",
        "plt.ylabel(\"total apps\");\n",
        "plt.title(\"android Version  & total Conts\");\n",
        "df[\"Android Ver\"].value_counts().plot(kind=\"area\", color='r');\n",
        "plt.plot();\n"
      ],
      "execution_count": 0,
      "outputs": []
    },
    {
      "cell_type": "code",
      "metadata": {
        "id": "-PER-gZ0uRyh",
        "colab_type": "code",
        "colab": {}
      },
      "source": [
        "df['Reviews'].astype(int)"
      ],
      "execution_count": 0,
      "outputs": []
    },
    {
      "cell_type": "code",
      "metadata": {
        "id": "0SMFTBKju-8b",
        "colab_type": "code",
        "colab": {}
      },
      "source": [
        "df.dtypes"
      ],
      "execution_count": 0,
      "outputs": []
    },
    {
      "cell_type": "markdown",
      "metadata": {
        "id": "7r4CZp3E3CSc",
        "colab_type": "text"
      },
      "source": [
        "plot the reviews for each genres "
      ]
    },
    {
      "cell_type": "code",
      "metadata": {
        "id": "Otv5OvPUt13k",
        "colab_type": "code",
        "colab": {}
      },
      "source": [
        "plt.figure(figsize=(15, 10));\n",
        "plt.title(\"Top 10 Most Reviewed Genres\");\n",
        "plt.xlabel(\"Genres\");\n",
        "plt.ylabel(\"Count\");\n",
        "df.groupby(\"Genres\").Reviews.sum().sort_values(ascending=False).plot(kind='bar');\n",
        "plt.plot();"
      ],
      "execution_count": 0,
      "outputs": []
    },
    {
      "cell_type": "markdown",
      "metadata": {
        "id": "NQC9TKb13OPr",
        "colab_type": "text"
      },
      "source": [
        "plot each type of categiry with type of application "
      ]
    },
    {
      "cell_type": "code",
      "metadata": {
        "id": "5Ie6gwqSwZcA",
        "colab_type": "code",
        "colab": {}
      },
      "source": [
        "pd.crosstab(df[\"Category\"], df[\"Type\"]).plot(kind=\"bar\",figsize=(15, 10));\n",
        "plt.plot();"
      ],
      "execution_count": 0,
      "outputs": []
    },
    {
      "cell_type": "markdown",
      "metadata": {
        "id": "VpraWM-23XgB",
        "colab_type": "text"
      },
      "source": [
        "plot each category content rating ![alt text](https://)"
      ]
    },
    {
      "cell_type": "code",
      "metadata": {
        "id": "c1hBjDSow0BP",
        "colab_type": "code",
        "colab": {}
      },
      "source": [
        "pd.crosstab(df[\"Category\"], df[\"Content Rating\"]).plot(kind=\"bar\",figsize=(15, 10));\n",
        "plt.plot();"
      ],
      "execution_count": 0,
      "outputs": []
    }
  ]
}