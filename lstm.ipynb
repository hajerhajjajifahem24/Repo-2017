{
  "nbformat": 4,
  "nbformat_minor": 0,
  "metadata": {
    "colab": {
      "name": "lstm.ipynb",
      "provenance": [],
      "private_outputs": true,
      "authorship_tag": "ABX9TyN32GYxHtGNY7OWp5NzGFCV",
      "include_colab_link": true
    },
    "kernelspec": {
      "name": "python3",
      "display_name": "Python 3"
    }
  },
  "cells": [
    {
      "cell_type": "markdown",
      "metadata": {
        "id": "view-in-github",
        "colab_type": "text"
      },
      "source": [
        "<a href=\"https://colab.research.google.com/github/hajerhajjajifahem24/Repo-2017/blob/master/lstm.ipynb\" target=\"_parent\"><img src=\"https://colab.research.google.com/assets/colab-badge.svg\" alt=\"Open In Colab\"/></a>"
      ]
    },
    {
      "cell_type": "code",
      "metadata": {
        "id": "Ok4pZyc6b02Y",
        "colab_type": "code",
        "colab": {}
      },
      "source": [
        "import tensorflow as tf\n",
        "import numpy as np\n",
        "import matplotlib.pyplot as plt\n",
        "import pandas as pd\n",
        "import re\n",
        "from tensorflow.keras.preprocessing.text import Tokenizer\n",
        "from tensorflow.keras.preprocessing.sequence import pad_sequences"
      ],
      "execution_count": null,
      "outputs": []
    },
    {
      "cell_type": "code",
      "metadata": {
        "id": "EvFCV0VgN_JT",
        "colab_type": "code",
        "colab": {}
      },
      "source": [
        "import string\n",
        "from nltk.stem import PorterStemmer\n",
        "from nltk.tokenize import word_tokenize\n",
        "from nltk.stem import WordNetLemmatizer\n",
        "\n",
        "import nltk\n",
        "nltk.download('punkt')\n",
        "import nltk\n",
        "nltk.download('stopwords')\n",
        "import nltk\n",
        "nltk.download('wordnet')\n",
        "from nltk.corpus import stopwords\n",
        "stop_words = set(stopwords.words('english'))"
      ],
      "execution_count": null,
      "outputs": []
    },
    {
      "cell_type": "code",
      "metadata": {
        "id": "DjehweiEb21y",
        "colab_type": "code",
        "colab": {}
      },
      "source": [
        "\n",
        "from google.colab import files\n",
        "uploaded = files.upload()"
      ],
      "execution_count": null,
      "outputs": []
    },
    {
      "cell_type": "code",
      "metadata": {
        "id": "AWhOvv8zBZ5W",
        "colab_type": "code",
        "colab": {}
      },
      "source": [
        "\n",
        "import io\n",
        "dataset = pd.read_csv(io.BytesIO(uploaded['googleplaystore_user_reviews.csv']))"
      ],
      "execution_count": null,
      "outputs": []
    },
    {
      "cell_type": "code",
      "metadata": {
        "id": "onCEMCQqBk0j",
        "colab_type": "code",
        "colab": {}
      },
      "source": [
        "dataset.head()\n"
      ],
      "execution_count": null,
      "outputs": []
    },
    {
      "cell_type": "code",
      "metadata": {
        "id": "IJmVSkr-Bp1y",
        "colab_type": "code",
        "colab": {}
      },
      "source": [
        "dataset=dataset.dropna()"
      ],
      "execution_count": null,
      "outputs": []
    },
    {
      "cell_type": "code",
      "metadata": {
        "id": "fwdsMN92D3tA",
        "colab_type": "code",
        "colab": {}
      },
      "source": [
        "dataset"
      ],
      "execution_count": null,
      "outputs": []
    },
    {
      "cell_type": "code",
      "metadata": {
        "id": "ir1RolvqN281",
        "colab_type": "code",
        "colab": {}
      },
      "source": [
        "def preprocess_sentence_text(sentence):\n",
        "    sentence=sentence.lower()\n",
        "    # Remove urls\n",
        "    sentence = re.sub(r\"http\\S+|www\\S+|https\\S+\", '', sentence, flags=re.MULTILINE)\n",
        "    # Remove user @ references and '#' from sentence\n",
        "    sentence = re.sub(r'\\@\\w+|\\#','', sentence)\n",
        "    # Remove punctuations\n",
        "    sentence = sentence.translate(str.maketrans('', '', string.punctuation))\n",
        "    # Remove stopwords\n",
        "    sentence_tokens = word_tokenize(sentence)\n",
        "    filtered_words = [w for w in sentence_tokens if not w in stop_words]\n",
        "    \n",
        "    ps = PorterStemmer()\n",
        "    stemmed_words = [ps.stem(w) for w in filtered_words]\n",
        "    lemmatizer = WordNetLemmatizer()\n",
        "    lemma_words = [lemmatizer.lemmatize(w, pos='v') for w in stemmed_words]\n",
        "    \n",
        "    return \" \".join( stemmed_words)"
      ],
      "execution_count": null,
      "outputs": []
    },
    {
      "cell_type": "code",
      "metadata": {
        "id": "h75lfjr_OS46",
        "colab_type": "code",
        "colab": {}
      },
      "source": [
        "test=\"I have been loving this phone\""
      ],
      "execution_count": null,
      "outputs": []
    },
    {
      "cell_type": "code",
      "metadata": {
        "id": "rCnteFUnUNj8",
        "colab_type": "code",
        "colab": {}
      },
      "source": [
        "test=preprocess_sentence_text(test)"
      ],
      "execution_count": null,
      "outputs": []
    },
    {
      "cell_type": "code",
      "metadata": {
        "id": "JwrAj25lUTZB",
        "colab_type": "code",
        "colab": {}
      },
      "source": [
        "test"
      ],
      "execution_count": null,
      "outputs": []
    },
    {
      "cell_type": "code",
      "metadata": {
        "id": "-vOhVk89CWNV",
        "colab_type": "code",
        "colab": {}
      },
      "source": [
        "dataset.Sentiment = [4 if i==\"Positive\" else 0 if i== \"Negative\" else 2 for i in dataset.Sentiment]"
      ],
      "execution_count": null,
      "outputs": []
    },
    {
      "cell_type": "code",
      "metadata": {
        "id": "2hmQjxF5OqeE",
        "colab_type": "code",
        "colab": {}
      },
      "source": [
        "dataset.Translated_Review = dataset['Translated_Review'].apply(preprocess_sentence_text)"
      ],
      "execution_count": null,
      "outputs": []
    },
    {
      "cell_type": "code",
      "metadata": {
        "id": "m4-7mrFjdpOc",
        "colab_type": "code",
        "colab": {}
      },
      "source": [
        "dataset=dataset.dropna()"
      ],
      "execution_count": null,
      "outputs": []
    },
    {
      "cell_type": "code",
      "metadata": {
        "id": "bU4mqoHIB3AN",
        "colab_type": "code",
        "colab": {}
      },
      "source": [
        "sentences = dataset['Translated_Review'].tolist()\n",
        "labels = dataset['Sentiment'].tolist()"
      ],
      "execution_count": null,
      "outputs": []
    },
    {
      "cell_type": "code",
      "metadata": {
        "id": "MgLGhTAyOiHX",
        "colab_type": "code",
        "colab": {}
      },
      "source": [
        "sentences"
      ],
      "execution_count": null,
      "outputs": []
    },
    {
      "cell_type": "code",
      "metadata": {
        "id": "9nnYz1S0CD48",
        "colab_type": "code",
        "colab": {}
      },
      "source": [
        "\n",
        "print(sentences[2])\n",
        "print(labels[2])"
      ],
      "execution_count": null,
      "outputs": []
    },
    {
      "cell_type": "code",
      "metadata": {
        "id": "W4Rl-oiiCobI",
        "colab_type": "code",
        "colab": {}
      },
      "source": [
        "training_size = int(len(sentences) * 0.8)\n",
        "\n",
        "training_sentences = sentences[0: training_size]\n",
        "testing_senteces = sentences[: training_size]\n",
        "training_labels = labels[0: training_size]\n",
        "testing_labels = labels[: training_size]\n",
        "\n",
        "# Put labels into list to use later:\n",
        "\n",
        "training_labels_final = np.array(training_labels)\n",
        "testing_labels_final = np.array(testing_labels)"
      ],
      "execution_count": null,
      "outputs": []
    },
    {
      "cell_type": "code",
      "metadata": {
        "id": "W2xR6fLTCsqL",
        "colab_type": "code",
        "colab": {}
      },
      "source": [
        "\n",
        "vocab_size = 1000\n",
        "embedding_dim = 16\n",
        "max_length = 280\n",
        "trunc_type='post'\n",
        "padding_type='post'\n",
        "oov_tok = \"<OOV>\""
      ],
      "execution_count": null,
      "outputs": []
    },
    {
      "cell_type": "code",
      "metadata": {
        "id": "dMCmcFi5CvsJ",
        "colab_type": "code",
        "colab": {}
      },
      "source": [
        "\n",
        "tokenizer = Tokenizer(num_words=vocab_size, oov_token=oov_tok)\n",
        "tokenizer.fit_on_texts(training_sentences)\n",
        "word_index = tokenizer.word_index\n",
        "\n"
      ],
      "execution_count": null,
      "outputs": []
    },
    {
      "cell_type": "code",
      "metadata": {
        "id": "YP_wpBQlNRth",
        "colab_type": "code",
        "colab": {}
      },
      "source": [
        "len(word_index)"
      ],
      "execution_count": null,
      "outputs": []
    },
    {
      "cell_type": "code",
      "metadata": {
        "id": "xvCSy-QONP5i",
        "colab_type": "code",
        "colab": {}
      },
      "source": [
        "training_sequences = tokenizer.texts_to_sequences(training_sentences)\n",
        "training_padded = pad_sequences(training_sequences, maxlen=max_length, padding=padding_type, truncating=trunc_type)\n",
        "\n",
        "testing_sequences = tokenizer.texts_to_sequences(testing_senteces)\n",
        "testing_padded = pad_sequences(testing_sequences, maxlen=max_length, padding=padding_type, truncating=trunc_type)"
      ],
      "execution_count": null,
      "outputs": []
    },
    {
      "cell_type": "code",
      "metadata": {
        "id": "xPiSmt-QNrdK",
        "colab_type": "code",
        "colab": {}
      },
      "source": [
        "training_sequences"
      ],
      "execution_count": null,
      "outputs": []
    },
    {
      "cell_type": "code",
      "metadata": {
        "id": "-crlPW8lEA_P",
        "colab_type": "code",
        "colab": {}
      },
      "source": [
        "model = tf.keras.models.Sequential()\n",
        "\n",
        "model.add(tf.keras.layers.Embedding(vocab_size, embedding_dim, input_length=max_length))\n",
        "model.add(tf.keras.layers.Bidirectional(\n",
        "    tf.keras.layers.LSTM(embedding_dim,\n",
        "                         return_sequences=True)\n",
        "))\n",
        "model.add(tf.keras.layers.Dense(6, activation='relu'))\n",
        "model.add(tf.keras.layers.Dense(1, activation='sigmoid'))"
      ],
      "execution_count": null,
      "outputs": []
    },
    {
      "cell_type": "code",
      "metadata": {
        "id": "e9DEKJMjEGqz",
        "colab_type": "code",
        "colab": {}
      },
      "source": [
        "\n",
        "model.compile(loss='binary_crossentropy',\n",
        "              optimizer=tf.keras.optimizers.Adam(0.01),\n",
        "              metrics=['accuracy'])"
      ],
      "execution_count": null,
      "outputs": []
    },
    {
      "cell_type": "code",
      "metadata": {
        "id": "e5LxgtLlENjG",
        "colab_type": "code",
        "colab": {}
      },
      "source": [
        "callbacks = tf.keras.callbacks.EarlyStopping(\n",
        "    monitor='val_loss', min_delta=0, patience=0, verbose=0, mode='auto',\n",
        "    baseline=None, restore_best_weights=False\n",
        ")\n",
        "num_epochs=10\n",
        "modelo = model.fit(training_padded, training_labels_final, epochs=num_epochs, validation_data=(testing_padded, testing_labels_final),\n",
        "          callbacks=[callbacks])"
      ],
      "execution_count": null,
      "outputs": []
    },
    {
      "cell_type": "code",
      "metadata": {
        "id": "vBDm-YojEolT",
        "colab_type": "code",
        "colab": {}
      },
      "source": [
        "\n",
        "plt.plot(modelo.history['accuracy'])\n",
        "plt.xlabel('Epochs')\n",
        "plt.ylabel('Accuracy')"
      ],
      "execution_count": null,
      "outputs": []
    },
    {
      "cell_type": "code",
      "metadata": {
        "id": "60QCoOxgLCaW",
        "colab_type": "code",
        "colab": {}
      },
      "source": [
        "plt.plot(modelo.history['loss'])\n",
        "plt.xlabel('Epochs')\n",
        "plt.ylabel('Accuracy')"
      ],
      "execution_count": null,
      "outputs": []
    },
    {
      "cell_type": "code",
      "metadata": {
        "id": "LNe2sbKXLE_-",
        "colab_type": "code",
        "colab": {}
      },
      "source": [
        "\n",
        "# Use the model to predict a review   \n",
        "fake_reviews = ['I love this phone']\n",
        "\n",
        "print(fake_reviews) \n",
        "\n",
        "# Create the sequences\n",
        "padding_type='post'\n",
        "sample_sequences = tokenizer.texts_to_sequences(fake_reviews)\n",
        "fakes_padded = pad_sequences(sample_sequences, padding=padding_type, maxlen=max_length)           \n",
        "\n",
        "classes = model.predict(fakes_padded)"
      ],
      "execution_count": null,
      "outputs": []
    },
    {
      "cell_type": "code",
      "metadata": {
        "id": "z5CqEllELNVA",
        "colab_type": "code",
        "colab": {}
      },
      "source": [
        "print(classes)"
      ],
      "execution_count": null,
      "outputs": []
    },
    {
      "cell_type": "code",
      "metadata": {
        "id": "8I_IhqkALU6c",
        "colab_type": "code",
        "colab": {}
      },
      "source": [
        "y = np.argmax(classes, axis=1)"
      ],
      "execution_count": null,
      "outputs": []
    },
    {
      "cell_type": "code",
      "metadata": {
        "id": "xKEYmp2TLmhy",
        "colab_type": "code",
        "colab": {}
      },
      "source": [
        "print(y)"
      ],
      "execution_count": null,
      "outputs": []
    }
  ]
}