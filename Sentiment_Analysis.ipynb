{
  "nbformat": 4,
  "nbformat_minor": 0,
  "metadata": {
    "colab": {
      "name": "Sentiment Analysis.ipynb",
      "provenance": [],
      "private_outputs": true,
      "collapsed_sections": [],
      "authorship_tag": "ABX9TyP/Gp6SQccqftPJQuApuW1k",
      "include_colab_link": true
    },
    "kernelspec": {
      "name": "python3",
      "display_name": "Python 3"
    }
  },
  "cells": [
    {
      "cell_type": "markdown",
      "metadata": {
        "id": "view-in-github",
        "colab_type": "text"
      },
      "source": [
        "<a href=\"https://colab.research.google.com/github/hajerhajjajifahem24/Repo-2017/blob/master/Sentiment_Analysis.ipynb\" target=\"_parent\"><img src=\"https://colab.research.google.com/assets/colab-badge.svg\" alt=\"Open In Colab\"/></a>"
      ]
    },
    {
      "cell_type": "code",
      "metadata": {
        "id": "dJTq_AvcLYeS",
        "colab_type": "code",
        "colab": {}
      },
      "source": [
        "import pandas as pd\n",
        "import numpy as np\n",
        "import matplotlib.pyplot as plt\n",
        "import nltk\n",
        "nltk.download('stopwords')\n",
        "from nltk.corpus import stopwords\n",
        "from nltk.stem import PorterStemmer\n",
        "from nltk import NaiveBayesClassifier\n",
        "from sklearn.model_selection import train_test_split\n",
        "from nltk.stem import PorterStemmer\n",
        "import re\n",
        "import tensorflow as tf\n",
        "\n",
        "# using the variable sw to hold all stopwords that are in English\n",
        "sw = stopwords.words('english')"
      ],
      "execution_count": 0,
      "outputs": []
    },
    {
      "cell_type": "code",
      "metadata": {
        "id": "zvDrjD7-LbJu",
        "colab_type": "code",
        "colab": {}
      },
      "source": [
        "from google.colab import files\n",
        "uploaded = files.upload()"
      ],
      "execution_count": 0,
      "outputs": []
    },
    {
      "cell_type": "code",
      "metadata": {
        "id": "NGY_4I4ULevu",
        "colab_type": "code",
        "colab": {}
      },
      "source": [
        "ds =pd.read_csv(\"googleplaystore_user_reviews.csv\",encoding=\"latin1\")"
      ],
      "execution_count": 0,
      "outputs": []
    },
    {
      "cell_type": "code",
      "metadata": {
        "id": "Ko5V-EGkLiLG",
        "colab_type": "code",
        "colab": {}
      },
      "source": [
        "ds.head()"
      ],
      "execution_count": 0,
      "outputs": []
    },
    {
      "cell_type": "code",
      "metadata": {
        "id": "wxmqqK8oLk8i",
        "colab_type": "code",
        "colab": {}
      },
      "source": [
        "import re\n",
        "import nltk\n",
        "nltk.download('stopwords')\n",
        "from nltk.corpus import stopwords\n",
        "from nltk.stem.porter import PorterStemmer\n",
        "text_list = []\n",
        "for i in ds.Translated_Review :\n",
        "    review = re.sub('[^a-zA-Z]', ' ', str(i))\n",
        "    review = review.lower() \n",
        "    review = review.split()\n",
        "    ps = PorterStemmer()\n",
        "    review = [ps.stem(word) for word in review if not word in set(stopwords.words('english'))]\n",
        "    review = ' '.join(review) \n",
        "    text_list.append(review) "
      ],
      "execution_count": 0,
      "outputs": []
    },
    {
      "cell_type": "code",
      "metadata": {
        "id": "9QUK3s-BSMc4",
        "colab_type": "code",
        "colab": {}
      },
      "source": [
        "ds.Sentiment = [1 if i==\"Positive\" else 0 if i== \"Negative\" else -1 for i in ds.Sentiment]"
      ],
      "execution_count": 0,
      "outputs": []
    },
    {
      "cell_type": "code",
      "metadata": {
        "id": "4_fdD2M0Lou0",
        "colab_type": "code",
        "colab": {}
      },
      "source": [
        "X = text_list\n",
        "y = ds['Sentiment']\n",
        "X_train, X_test, y_train, y_test = train_test_split(X, y, test_size=0.2)"
      ],
      "execution_count": 0,
      "outputs": []
    },
    {
      "cell_type": "code",
      "metadata": {
        "id": "k5X2Kes6LtBM",
        "colab_type": "code",
        "colab": {}
      },
      "source": [
        "# This CountVectorizer is used to represent the words as a list of values, instead of text\n",
        "from sklearn.feature_extraction.text import CountVectorizer\n",
        "vectorizer = CountVectorizer()\n",
        "\n",
        "vectorizer.fit(X)\n",
        "X_train = vectorizer.transform(X_train)\n",
        "X_test = vectorizer.transform(X_test)\n",
        "\n",
        "from sklearn.preprocessing import LabelEncoder\n",
        "le = LabelEncoder()\n",
        "le.fit(y)\n",
        "y_train = le.transform(y_train)\n",
        "y_test = le.transform(y_test)"
      ],
      "execution_count": 0,
      "outputs": []
    },
    {
      "cell_type": "code",
      "metadata": {
        "id": "PsxVfaoBQwkG",
        "colab_type": "code",
        "colab": {}
      },
      "source": [
        "!pip install tensorflow"
      ],
      "execution_count": 0,
      "outputs": []
    },
    {
      "cell_type": "code",
      "metadata": {
        "id": "mSZ3YiypLxHw",
        "colab_type": "code",
        "colab": {}
      },
      "source": [
        "#from tf.keras.models import Sequential\n",
        "#from keras.layers import Dense\n",
        "import tensorflow.compat.v1 as tf\n",
        "from tensorflow.keras.models import Sequential\n",
        "from tensorflow.keras.layers import Dense\n",
        "model = Sequential()\n",
        "model.add(Dense(units=100, activation='relu', input_dim=len(vectorizer.get_feature_names())))\n",
        "model.add(Dense(units=3, activation='sigmoid'))\n",
        "model.compile(loss='sparse_categorical_crossentropy', optimizer='adam', metrics=['accuracy'])\n",
        "history = model.fit(X_train, y_train, \n",
        "          epochs=2, verbose=1)\n",
        "scores = model.evaluate(X_test, y_test, verbose=1)\n",
        "print(\"Accuracy:\", scores[1])"
      ],
      "execution_count": 0,
      "outputs": []
    },
    {
      "cell_type": "code",
      "metadata": {
        "id": "UiEOK2tmS9Ji",
        "colab_type": "code",
        "colab": {}
      },
      "source": [
        "y_test = [\"Positive\" if i==1 else \"Negative\" if i==0  else \"net\"for i in y_test]"
      ],
      "execution_count": 0,
      "outputs": []
    },
    {
      "cell_type": "code",
      "metadata": {
        "id": "-531JlFWTCWl",
        "colab_type": "code",
        "colab": {}
      },
      "source": [
        "print(y_test)"
      ],
      "execution_count": 0,
      "outputs": []
    }
  ]
}