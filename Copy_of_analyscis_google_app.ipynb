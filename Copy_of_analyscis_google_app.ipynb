{
  "nbformat": 4,
  "nbformat_minor": 0,
  "metadata": {
    "colab": {
      "name": "Copy of analyscis google app",
      "provenance": [],
      "private_outputs": true,
      "collapsed_sections": [],
      "authorship_tag": "ABX9TyM2C4LABZboz1bLnvTo3lM0",
      "include_colab_link": true
    },
    "kernelspec": {
      "name": "python3",
      "display_name": "Python 3"
    },
    "accelerator": "GPU"
  },
  "cells": [
    {
      "cell_type": "markdown",
      "metadata": {
        "id": "view-in-github",
        "colab_type": "text"
      },
      "source": [
        "<a href=\"https://colab.research.google.com/github/hajerhajjajifahem24/Repo-2017/blob/master/Copy_of_analyscis_google_app.ipynb\" target=\"_parent\"><img src=\"https://colab.research.google.com/assets/colab-badge.svg\" alt=\"Open In Colab\"/></a>"
      ]
    },
    {
      "cell_type": "markdown",
      "metadata": {
        "id": "AE6HSF9GPAiS",
        "colab_type": "text"
      },
      "source": [
        "**importing libraries**\n",
        "\n",
        "```\n",
        "\n",
        "```\n",
        "\n"
      ]
    },
    {
      "cell_type": "code",
      "metadata": {
        "id": "S0yvYCY5gpj1",
        "colab_type": "code",
        "colab": {}
      },
      "source": [
        "!pip install -U scikit-learn\n"
      ],
      "execution_count": null,
      "outputs": []
    },
    {
      "cell_type": "code",
      "metadata": {
        "id": "n61-tKrhc9pE",
        "colab_type": "code",
        "colab": {}
      },
      "source": [
        "import pandas as pd\n",
        "import numpy as np\n",
        "from sklearn.preprocessing import LabelEncoder  # lb_make.fittransform\n",
        "from sklearn.impute import SimpleImputer\n",
        "from sklearn.ensemble import RandomForestRegressor\n",
        "from sklearn.metrics import mean_absolute_error \n",
        "from sklearn.model_selection import train_test_split\n",
        "\n"
      ],
      "execution_count": null,
      "outputs": []
    },
    {
      "cell_type": "markdown",
      "metadata": {
        "id": "oYo1penYPXF4",
        "colab_type": "text"
      },
      "source": [
        "**visulisation data**"
      ]
    },
    {
      "cell_type": "code",
      "metadata": {
        "id": "wv0GsDuHOPsM",
        "colab_type": "code",
        "colab": {}
      },
      "source": [
        "import matplotlib.pyplot as plt\n",
        "import seaborn as sns\n",
        "sns.set(style=\"darkgrid\")\n",
        "sns.set(font_scale=1.3)"
      ],
      "execution_count": null,
      "outputs": []
    },
    {
      "cell_type": "markdown",
      "metadata": {
        "id": "YmuK6UHuPoYx",
        "colab_type": "text"
      },
      "source": [
        "**upload dataset google pllay store**"
      ]
    },
    {
      "cell_type": "code",
      "metadata": {
        "id": "GUY-XXGwc_N9",
        "colab_type": "code",
        "colab": {}
      },
      "source": [
        "from google.colab import files\n",
        "uploaded = files.upload()"
      ],
      "execution_count": null,
      "outputs": []
    },
    {
      "cell_type": "markdown",
      "metadata": {
        "id": "8XJrXUhuPxPM",
        "colab_type": "text"
      },
      "source": [
        ""
      ]
    },
    {
      "cell_type": "code",
      "metadata": {
        "id": "Uk_KpBMKddd5",
        "colab_type": "code",
        "colab": {}
      },
      "source": [
        "!ls"
      ],
      "execution_count": null,
      "outputs": []
    },
    {
      "cell_type": "markdown",
      "metadata": {
        "id": "UmgACoPKP0m9",
        "colab_type": "text"
      },
      "source": [
        "**read the datset**"
      ]
    },
    {
      "cell_type": "code",
      "metadata": {
        "id": "NdH83u-se9bW",
        "colab_type": "code",
        "colab": {}
      },
      "source": [
        "df = pd.read_csv('googleplaystore.csv')"
      ],
      "execution_count": null,
      "outputs": []
    },
    {
      "cell_type": "markdown",
      "metadata": {
        "id": "C9nqPvoGRKaT",
        "colab_type": "text"
      },
      "source": [
        "afficher les dataset"
      ]
    },
    {
      "cell_type": "code",
      "metadata": {
        "id": "vQoTlekQfCO3",
        "colab_type": "code",
        "colab": {}
      },
      "source": [
        "df"
      ],
      "execution_count": null,
      "outputs": []
    },
    {
      "cell_type": "markdown",
      "metadata": {
        "id": "wcI5Ndx9RPdf",
        "colab_type": "text"
      },
      "source": [
        "dim dataset"
      ]
    },
    {
      "cell_type": "code",
      "metadata": {
        "id": "i0SGOHl1fHZr",
        "colab_type": "code",
        "colab": {}
      },
      "source": [
        "df.shape"
      ],
      "execution_count": null,
      "outputs": []
    },
    {
      "cell_type": "markdown",
      "metadata": {
        "id": "OiqJUJJIRaFj",
        "colab_type": "text"
      },
      "source": [
        "## ***Data Cleaning***"
      ]
    },
    {
      "cell_type": "markdown",
      "metadata": {
        "id": "WE2vYd5DRTbi",
        "colab_type": "text"
      },
      "source": [
        "**delelte the row duplicated **"
      ]
    },
    {
      "cell_type": "code",
      "metadata": {
        "id": "Sisdhx-Jhhyl",
        "colab_type": "code",
        "colab": {}
      },
      "source": [
        "df.duplicated(subset='App').value_counts()# trouve le nom des application "
      ],
      "execution_count": null,
      "outputs": []
    },
    {
      "cell_type": "code",
      "metadata": {
        "id": "WgH8KzP9hr0B",
        "colab_type": "code",
        "colab": {}
      },
      "source": [
        "df.drop_duplicates(subset='App')"
      ],
      "execution_count": null,
      "outputs": []
    },
    {
      "cell_type": "markdown",
      "metadata": {
        "id": "55Sz5a3bSlDE",
        "colab_type": "text"
      },
      "source": [
        "we do the step for taking the vesion  about the values of each col "
      ]
    },
    {
      "cell_type": "markdown",
      "metadata": {
        "id": "9Bwc0iVoR1iy",
        "colab_type": "text"
      },
      "source": [
        "**display and count each value of category**"
      ]
    },
    {
      "cell_type": "code",
      "metadata": {
        "id": "_a3aLuHNcFCm",
        "colab_type": "code",
        "colab": {}
      },
      "source": [
        ""
      ],
      "execution_count": null,
      "outputs": []
    },
    {
      "cell_type": "code",
      "metadata": {
        "id": "RxfgGYu8h9C3",
        "colab_type": "code",
        "colab": {}
      },
      "source": [
        "df.Category.value_counts(dropna=False)"
      ],
      "execution_count": null,
      "outputs": []
    },
    {
      "cell_type": "code",
      "metadata": {
        "id": "bBdsAN2je-Yv",
        "colab_type": "code",
        "colab": {}
      },
      "source": [
        "value=cf.index"
      ],
      "execution_count": null,
      "outputs": []
    },
    {
      "cell_type": "code",
      "metadata": {
        "id": "TcW81O8UfvOv",
        "colab_type": "code",
        "colab": {}
      },
      "source": [
        "count=cf.values"
      ],
      "execution_count": null,
      "outputs": []
    },
    {
      "cell_type": "code",
      "metadata": {
        "id": "ugLESX59iUrr",
        "colab_type": "code",
        "colab": {}
      },
      "source": [
        "df.Installs.value_counts(dropna=False)"
      ],
      "execution_count": null,
      "outputs": []
    },
    {
      "cell_type": "markdown",
      "metadata": {
        "id": "9m82GrAxSc8Z",
        "colab_type": "text"
      },
      "source": [
        "display the values of Genres "
      ]
    },
    {
      "cell_type": "code",
      "metadata": {
        "id": "oWT0wI6mi1tW",
        "colab_type": "code",
        "colab": {}
      },
      "source": [
        "df.Genres.value_counts(dropna=False)"
      ],
      "execution_count": null,
      "outputs": []
    },
    {
      "cell_type": "markdown",
      "metadata": {
        "id": "pXQvcLMmVakE",
        "colab_type": "text"
      },
      "source": [
        "display the value of Price"
      ]
    },
    {
      "cell_type": "code",
      "metadata": {
        "id": "pJgQ9CcqjCwI",
        "colab_type": "code",
        "colab": {}
      },
      "source": [
        "df.Price.value_counts(dropna=False)"
      ],
      "execution_count": null,
      "outputs": []
    },
    {
      "cell_type": "markdown",
      "metadata": {
        "id": "LmTIXkl0VhJ3",
        "colab_type": "text"
      },
      "source": [
        "the value\"varies must be drop"
      ]
    },
    {
      "cell_type": "code",
      "metadata": {
        "id": "nYiSLvNNjw5u",
        "colab_type": "code",
        "colab": {}
      },
      "source": [
        "df.Size.value_counts()"
      ],
      "execution_count": null,
      "outputs": []
    },
    {
      "cell_type": "code",
      "metadata": {
        "id": "NVglL9qB62ak",
        "colab_type": "code",
        "colab": {}
      },
      "source": [
        "df.dtypes"
      ],
      "execution_count": null,
      "outputs": []
    },
    {
      "cell_type": "code",
      "metadata": {
        "id": "_DfwoN_D7urP",
        "colab_type": "code",
        "colab": {}
      },
      "source": [
        "df['Size']"
      ],
      "execution_count": null,
      "outputs": []
    },
    {
      "cell_type": "markdown",
      "metadata": {
        "id": "LEZW-MU2VvFB",
        "colab_type": "text"
      },
      "source": [
        "drop the row when the value of size is varies with device"
      ]
    },
    {
      "cell_type": "code",
      "metadata": {
        "id": "pgEhYGmQ1n16",
        "colab_type": "code",
        "colab": {}
      },
      "source": [
        "data_size= df[df['Size'] == \"Varies with device\"]"
      ],
      "execution_count": null,
      "outputs": []
    },
    {
      "cell_type": "code",
      "metadata": {
        "id": "cGH6tYRp8Qra",
        "colab_type": "code",
        "colab": {}
      },
      "source": [
        "df.drop(data_size.index, inplace=True)"
      ],
      "execution_count": null,
      "outputs": []
    },
    {
      "cell_type": "code",
      "metadata": {
        "id": "bRv1Ij-B8Ju6",
        "colab_type": "code",
        "colab": {}
      },
      "source": [
        "data_size"
      ],
      "execution_count": null,
      "outputs": []
    },
    {
      "cell_type": "markdown",
      "metadata": {
        "id": "9Qq-BuFS8fJH",
        "colab_type": "text"
      },
      "source": [
        ""
      ]
    },
    {
      "cell_type": "markdown",
      "metadata": {
        "id": "WWb97r6zWhNn",
        "colab_type": "text"
      },
      "source": [
        " delete all the leading , trailing and replacing characters mentioned in its argument."
      ]
    },
    {
      "cell_type": "code",
      "metadata": {
        "id": "ukHjsbic-BwE",
        "colab_type": "code",
        "colab": {}
      },
      "source": [
        "data_size_M= df[\"Size\"].apply(lambda x: str(x).strip('M'))"
      ],
      "execution_count": null,
      "outputs": []
    },
    {
      "cell_type": "code",
      "metadata": {
        "id": "O11p4-Ae-Z-l",
        "colab_type": "code",
        "colab": {}
      },
      "source": [
        "print(data_size_M)"
      ],
      "execution_count": null,
      "outputs": []
    },
    {
      "cell_type": "code",
      "metadata": {
        "id": "aMddmSj28XSF",
        "colab_type": "code",
        "colab": {}
      },
      "source": [
        "\n",
        "df[\"Size\"] = df[\"Size\"].apply(lambda x: str(x).strip('M').replace('M', '000000'))"
      ],
      "execution_count": null,
      "outputs": []
    },
    {
      "cell_type": "code",
      "metadata": {
        "id": "mD59kKJI-_SR",
        "colab_type": "code",
        "colab": {}
      },
      "source": [
        "df_size_K = df[\"Size\"].apply(lambda x: str(x).strip('K').replace('K', '000'))"
      ],
      "execution_count": null,
      "outputs": []
    },
    {
      "cell_type": "code",
      "metadata": {
        "id": "eQuw420s_LIT",
        "colab_type": "code",
        "colab": {}
      },
      "source": [
        "df_size_K"
      ],
      "execution_count": null,
      "outputs": []
    },
    {
      "cell_type": "code",
      "metadata": {
        "id": "lrvIoaLs-yN4",
        "colab_type": "code",
        "colab": {}
      },
      "source": [
        "df[\"Size\"] = df[\"Size\"].apply(lambda x: str(x).strip('K').replace('k', '000'))"
      ],
      "execution_count": null,
      "outputs": []
    },
    {
      "cell_type": "code",
      "metadata": {
        "colab_type": "code",
        "id": "UG5RfiRnevY2",
        "colab": {}
      },
      "source": [
        "df[\"Size\"] = df[\"Size\"].apply(lambda x: str(x).strip('+').replace('+', '000'))\n",
        "df[\"Size\"] = df[\"Size\"].apply(lambda x: str(x).strip(',').replace(',', ''))"
      ],
      "execution_count": null,
      "outputs": []
    },
    {
      "cell_type": "code",
      "metadata": {
        "id": "wzzCub9DaMe1",
        "colab_type": "code",
        "colab": {}
      },
      "source": [
        "\n",
        "df[\"Size\"] = df[\"Size\"].apply(lambda x: str(x).strip('+').replace('USIC_AND_AUDIO', ''))\n"
      ],
      "execution_count": null,
      "outputs": []
    },
    {
      "cell_type": "code",
      "metadata": {
        "id": "HUNFVaXx_ytc",
        "colab_type": "code",
        "colab": {}
      },
      "source": [
        "df[\"Size\"] =df[\"Size\"].astype(float)"
      ],
      "execution_count": null,
      "outputs": []
    },
    {
      "cell_type": "code",
      "metadata": {
        "id": "uzCR92FX_8F3",
        "colab_type": "code",
        "colab": {}
      },
      "source": [
        "df.dtypes"
      ],
      "execution_count": null,
      "outputs": []
    },
    {
      "cell_type": "markdown",
      "metadata": {
        "id": "sjNxNW2df8UJ",
        "colab_type": "text"
      },
      "source": [
        "clean the col installs delelte + ; , and word free"
      ]
    },
    {
      "cell_type": "code",
      "metadata": {
        "id": "quylSNxaCJig",
        "colab_type": "code",
        "colab": {}
      },
      "source": [
        "df.Installs.unique()"
      ],
      "execution_count": null,
      "outputs": []
    },
    {
      "cell_type": "code",
      "metadata": {
        "id": "tCLA-qYxgM82",
        "colab_type": "code",
        "colab": {}
      },
      "source": [
        "data_ins_free= df[df['Installs'] == \"Free\"]\n",
        "df.drop(data_ins_free.index, inplace=True)"
      ],
      "execution_count": null,
      "outputs": []
    },
    {
      "cell_type": "code",
      "metadata": {
        "id": "K3trOzIrC2wf",
        "colab_type": "code",
        "colab": {}
      },
      "source": [
        "df['Installs'] = df['Installs'].apply(lambda x: str(x).strip('+').replace('+','')).astype(int)\n",
        "df['Installs'] = df['Installs'].apply(lambda x: str(x).strip(',').replace(',','')).astype(int)"
      ],
      "execution_count": null,
      "outputs": []
    },
    {
      "cell_type": "code",
      "metadata": {
        "id": "e8Mn0y7pDE3V",
        "colab_type": "code",
        "colab": {}
      },
      "source": [
        "df.Installs.unique()"
      ],
      "execution_count": null,
      "outputs": []
    },
    {
      "cell_type": "markdown",
      "metadata": {
        "id": "ZE1ZRdVkgy8X",
        "colab_type": "text"
      },
      "source": [
        " clean col *price* : delete the symbole $ and replace by''"
      ]
    },
    {
      "cell_type": "code",
      "metadata": {
        "id": "oJKiRvc6DX-z",
        "colab_type": "code",
        "colab": {}
      },
      "source": [
        "df.Price.unique()"
      ],
      "execution_count": null,
      "outputs": []
    },
    {
      "cell_type": "code",
      "metadata": {
        "id": "OslkYOMxDyO1",
        "colab_type": "code",
        "colab": {}
      },
      "source": [
        "d_price= df[\"Price\"].apply(lambda x: str(x).strip('$'))"
      ],
      "execution_count": null,
      "outputs": []
    },
    {
      "cell_type": "code",
      "metadata": {
        "id": "isUyQ017D-Er",
        "colab_type": "code",
        "colab": {}
      },
      "source": [
        "d_price"
      ],
      "execution_count": null,
      "outputs": []
    },
    {
      "cell_type": "code",
      "metadata": {
        "id": "yimHHsFSDoEO",
        "colab_type": "code",
        "colab": {}
      },
      "source": [
        "df[\"Price\"] = df[\"Price\"].apply(lambda x: str(x).strip('$').replace('$', '')).astype(float)\n"
      ],
      "execution_count": null,
      "outputs": []
    },
    {
      "cell_type": "code",
      "metadata": {
        "id": "H4jh1VOc7cLX",
        "colab_type": "code",
        "colab": {}
      },
      "source": [
        "df[\"Price\"] "
      ],
      "execution_count": null,
      "outputs": []
    },
    {
      "cell_type": "markdown",
      "metadata": {
        "id": "XKVZXCgghGrv",
        "colab_type": "text"
      },
      "source": [
        "clean the col content rating "
      ]
    },
    {
      "cell_type": "code",
      "metadata": {
        "id": "1P3B6P3ZFITm",
        "colab_type": "code",
        "colab": {}
      },
      "source": [
        "df[\"Content Rating\"].unique()\n"
      ],
      "execution_count": null,
      "outputs": []
    },
    {
      "cell_type": "code",
      "metadata": {
        "id": "Uz3hsNqvEeAb",
        "colab_type": "code",
        "colab": {}
      },
      "source": [
        "data_rating_un = df[df['Content Rating'] == \"Unrated\"].count()\n",
        "#df.drop(data_rating_un.index, inplace=True)"
      ],
      "execution_count": null,
      "outputs": []
    },
    {
      "cell_type": "markdown",
      "metadata": {
        "id": "YIhxF6YhhPpb",
        "colab_type": "text"
      },
      "source": [
        "top app installs"
      ]
    },
    {
      "cell_type": "code",
      "metadata": {
        "id": "R8jfl5UsFxzm",
        "colab_type": "code",
        "colab": {}
      },
      "source": [
        "df['Current Ver'].unique()"
      ],
      "execution_count": null,
      "outputs": []
    },
    {
      "cell_type": "code",
      "metadata": {
        "id": "nFDzwB7EZ3CL",
        "colab_type": "code",
        "colab": {}
      },
      "source": [
        "df['Genres'].unique()\n",
        "apptop=df[[\"App\", \"Installs\",\"Rating\"]]"
      ],
      "execution_count": null,
      "outputs": []
    },
    {
      "cell_type": "code",
      "metadata": {
        "id": "U8ErhmJ7Nc_b",
        "colab_type": "code",
        "colab": {}
      },
      "source": [
        "apptop=apptop.sort_values(by=['Installs'],ascending=False)"
      ],
      "execution_count": null,
      "outputs": []
    },
    {
      "cell_type": "code",
      "metadata": {
        "id": "d7tfl7e5AA1z",
        "colab_type": "code",
        "colab": {}
      },
      "source": [
        "apptop.drop_duplicates(subset =\"App\", \n",
        "                     keep = False, inplace = True)"
      ],
      "execution_count": null,
      "outputs": []
    },
    {
      "cell_type": "code",
      "metadata": {
        "id": "yoW0l0H6O_qN",
        "colab_type": "code",
        "colab": {}
      },
      "source": [
        "apptopp=apptop[:20]"
      ],
      "execution_count": null,
      "outputs": []
    },
    {
      "cell_type": "markdown",
      "metadata": {
        "id": "BK4HcOIXXqQR",
        "colab_type": "text"
      },
      "source": [
        "Rating"
      ]
    },
    {
      "cell_type": "code",
      "metadata": {
        "id": "_FJuXL4Ap1pH",
        "colab_type": "code",
        "colab": {}
      },
      "source": [
        "freedata=df[\"Price\"]"
      ],
      "execution_count": null,
      "outputs": []
    },
    {
      "cell_type": "code",
      "metadata": {
        "id": "WfHPUjIKrJBF",
        "colab_type": "code",
        "colab": {}
      },
      "source": [
        "freedata"
      ],
      "execution_count": null,
      "outputs": []
    },
    {
      "cell_type": "code",
      "metadata": {
        "id": "NT-MwueqrrLv",
        "colab_type": "code",
        "colab": {}
      },
      "source": [
        "x=(8354*100)/9072"
      ],
      "execution_count": null,
      "outputs": []
    },
    {
      "cell_type": "code",
      "metadata": {
        "id": "3fNyTFaLXooY",
        "colab_type": "code",
        "colab": {}
      },
      "source": [
        "df['Rating'].mean()"
      ],
      "execution_count": null,
      "outputs": []
    },
    {
      "cell_type": "code",
      "metadata": {
        "id": "DKpESCsHaNFV",
        "colab_type": "code",
        "colab": {}
      },
      "source": [
        "apptop=df[[\"App\", \"Installs\",\"Rating\",\"Price\"]]"
      ],
      "execution_count": null,
      "outputs": []
    },
    {
      "cell_type": "code",
      "metadata": {
        "id": "lI-ZV9dTXy69",
        "colab_type": "code",
        "colab": {}
      },
      "source": [
        "apptop=apptop.sort_values(by=['Price'],ascending=True)"
      ],
      "execution_count": null,
      "outputs": []
    },
    {
      "cell_type": "code",
      "metadata": {
        "id": "iqgF_dsFai_9",
        "colab_type": "code",
        "colab": {}
      },
      "source": [
        "apptop"
      ],
      "execution_count": null,
      "outputs": []
    },
    {
      "cell_type": "code",
      "metadata": {
        "id": "ARuG1ooXaWFG",
        "colab_type": "code",
        "colab": {}
      },
      "source": [
        "apptop.drop_duplicates(subset =\"App\", \n",
        "                     keep = False, inplace = True)"
      ],
      "execution_count": null,
      "outputs": []
    },
    {
      "cell_type": "code",
      "metadata": {
        "id": "anvIEwd-gZVF",
        "colab_type": "code",
        "colab": {}
      },
      "source": [
        "apptop=apptop.sort_values(by=['Rating'],ascending=False)"
      ],
      "execution_count": null,
      "outputs": []
    },
    {
      "cell_type": "code",
      "metadata": {
        "id": "RvYuL12ugXwD",
        "colab_type": "code",
        "colab": {}
      },
      "source": [
        "toprating=apptop[:10]\n",
        "toprating"
      ],
      "execution_count": null,
      "outputs": []
    },
    {
      "cell_type": "code",
      "metadata": {
        "id": "_GMZSfDjgWa2",
        "colab_type": "code",
        "colab": {}
      },
      "source": [
        "toprating.to_json (r'toprating.json')"
      ],
      "execution_count": null,
      "outputs": []
    },
    {
      "cell_type": "code",
      "metadata": {
        "id": "HH1Xzi2iYDyh",
        "colab_type": "code",
        "colab": {}
      },
      "source": [
        "files.download('toprating.json')"
      ],
      "execution_count": null,
      "outputs": []
    },
    {
      "cell_type": "markdown",
      "metadata": {
        "id": "IF2VVzjxACzG",
        "colab_type": "text"
      },
      "source": [
        "## ***explore the data***"
      ]
    },
    {
      "cell_type": "code",
      "metadata": {
        "id": "d18PndKVAEyt",
        "colab_type": "code",
        "colab": {}
      },
      "source": [
        "data_rating_un = df[df['Category'] == \"GAME\"]\n",
        "number_app=data_rating_un[\"Genres\"].value_counts()\n",
        "labels = number_app.index\n",
        "sizes = number_app.values\n",
        "for i in range(10):\n",
        " print(labels[i])\n",
        " print(sizes[i])\n",
        " \n"
      ],
      "execution_count": null,
      "outputs": []
    },
    {
      "cell_type": "code",
      "metadata": {
        "id": "mbeJECgCc4uU",
        "colab_type": "code",
        "colab": {}
      },
      "source": [
        "datadf = pd.DataFrame(number_app)"
      ],
      "execution_count": null,
      "outputs": []
    },
    {
      "cell_type": "code",
      "metadata": {
        "id": "4k26KBCyc4ev",
        "colab_type": "code",
        "colab": {}
      },
      "source": [
        "datadf"
      ],
      "execution_count": null,
      "outputs": []
    },
    {
      "cell_type": "code",
      "metadata": {
        "id": "mvIcOq0V2We4",
        "colab_type": "code",
        "colab": {}
      },
      "source": [
        "df.Category.value_counts()"
      ],
      "execution_count": null,
      "outputs": []
    },
    {
      "cell_type": "code",
      "metadata": {
        "id": "OAVN89sKqVzA",
        "colab_type": "code",
        "colab": {}
      },
      "source": [
        "data_rating_un = df[df['Category'] == \"FINANCE\"]\n",
        "number_app=data_rating_un[\"Type\"].value_counts()\n",
        "labels = number_app.index\n",
        "sizes = number_app.values\n",
        "for i in range(10):\n",
        " print(labels[i])\n",
        " print(sizes[i])"
      ],
      "execution_count": null,
      "outputs": []
    },
    {
      "cell_type": "code",
      "metadata": {
        "id": "0nhyiKMmffL8",
        "colab_type": "code",
        "colab": {}
      },
      "source": [
        "df.groupby([\"Genres\", \"Category\"]).Rating.median().plot(kind=\"bar\", figsize=(10, 10));"
      ],
      "execution_count": null,
      "outputs": []
    },
    {
      "cell_type": "code",
      "metadata": {
        "id": "mwIpGpLgGI_1",
        "colab_type": "code",
        "colab": {}
      },
      "source": [
        "data_varies = df[df['Current Ver'] == \"Varies with device\"]\n",
        "df.drop(data_varies.index, inplace=True)"
      ],
      "execution_count": null,
      "outputs": []
    },
    {
      "cell_type": "markdown",
      "metadata": {
        "id": "TddEnbYGhapk",
        "colab_type": "text"
      },
      "source": [
        "clean col genres"
      ]
    },
    {
      "cell_type": "code",
      "metadata": {
        "id": "ek0ys17kJRmP",
        "colab_type": "code",
        "colab": {}
      },
      "source": [
        "df.Genres.unique()"
      ],
      "execution_count": null,
      "outputs": []
    },
    {
      "cell_type": "markdown",
      "metadata": {
        "id": "eSvAPpJ1he95",
        "colab_type": "text"
      },
      "source": [
        "delelet and replace symbole \"&\""
      ]
    },
    {
      "cell_type": "code",
      "metadata": {
        "id": "0es54sWAJfGi",
        "colab_type": "code",
        "colab": {}
      },
      "source": [
        "df['Genres'] = df['Genres'].apply(lambda x: str(x).strip('&').replace('&', ' and'))\n"
      ],
      "execution_count": null,
      "outputs": []
    },
    {
      "cell_type": "code",
      "metadata": {
        "id": "iU0g3bRiJ0Az",
        "colab_type": "code",
        "colab": {}
      },
      "source": [
        "df['Genres']"
      ],
      "execution_count": null,
      "outputs": []
    },
    {
      "cell_type": "markdown",
      "metadata": {
        "id": "9wgrweuNvJud",
        "colab_type": "text"
      },
      "source": [
        "convert to data type"
      ]
    },
    {
      "cell_type": "code",
      "metadata": {
        "id": "3ojo5MUMu8lV",
        "colab_type": "code",
        "colab": {}
      },
      "source": [
        "\n",
        "df['Last Updated'] = pd.to_datetime(df['Last Updated'])\n"
      ],
      "execution_count": null,
      "outputs": []
    },
    {
      "cell_type": "code",
      "metadata": {
        "id": "cDlD88Iou77G",
        "colab_type": "code",
        "colab": {}
      },
      "source": [
        "df['Last Updated'] \n"
      ],
      "execution_count": null,
      "outputs": []
    },
    {
      "cell_type": "code",
      "metadata": {
        "id": "23tN7jYBI3wb",
        "colab_type": "code",
        "colab": {}
      },
      "source": [
        "df.head()"
      ],
      "execution_count": null,
      "outputs": []
    },
    {
      "cell_type": "markdown",
      "metadata": {
        "id": "H3zPdUA3HL13",
        "colab_type": "text"
      },
      "source": [
        "exploratory df analysis\n"
      ]
    },
    {
      "cell_type": "markdown",
      "metadata": {
        "id": "zejRnd1DwvuB",
        "colab_type": "text"
      },
      "source": [
        ""
      ]
    },
    {
      "cell_type": "code",
      "metadata": {
        "id": "iyiWxLNRwV56",
        "colab_type": "code",
        "colab": {}
      },
      "source": [
        "df.describe()"
      ],
      "execution_count": null,
      "outputs": []
    },
    {
      "cell_type": "code",
      "metadata": {
        "id": "FF-oUAI2Wt9F",
        "colab_type": "code",
        "colab": {}
      },
      "source": [
        "data_rating_un = df[df['Rating'] == 5]\n",
        "number_app=data_rating_un[\"Installs\"].value_counts()\n",
        "labels = number_app.index\n",
        "sizes = number_app.values\n",
        "for i in range(10):\n",
        " print(labels[i])\n",
        " print(sizes[i])\n",
        " "
      ],
      "execution_count": null,
      "outputs": []
    },
    {
      "cell_type": "code",
      "metadata": {
        "id": "merD4LS3YLRi",
        "colab_type": "code",
        "colab": {}
      },
      "source": [
        "number_app"
      ],
      "execution_count": null,
      "outputs": []
    },
    {
      "cell_type": "code",
      "metadata": {
        "id": "rguL8GtANDmy",
        "colab_type": "code",
        "colab": {}
      },
      "source": [
        "df.dtypes"
      ],
      "execution_count": null,
      "outputs": []
    },
    {
      "cell_type": "code",
      "metadata": {
        "id": "qmZrc9q6ia6I",
        "colab_type": "code",
        "colab": {}
      },
      "source": [
        "df['Category'].values"
      ],
      "execution_count": null,
      "outputs": []
    },
    {
      "cell_type": "code",
      "metadata": {
        "id": "8faTKm0oiZm9",
        "colab_type": "code",
        "colab": {}
      },
      "source": [
        "number_app= df[\"Category\"].value_counts()"
      ],
      "execution_count": null,
      "outputs": []
    },
    {
      "cell_type": "code",
      "metadata": {
        "id": "CtbJNOMwjBDx",
        "colab_type": "code",
        "colab": {}
      },
      "source": [
        "number_app"
      ],
      "execution_count": null,
      "outputs": []
    },
    {
      "cell_type": "code",
      "metadata": {
        "id": "oEr2xc_rjWCT",
        "colab_type": "code",
        "colab": {}
      },
      "source": [
        "labels = number_app.index\n",
        "labels"
      ],
      "execution_count": null,
      "outputs": []
    },
    {
      "cell_type": "code",
      "metadata": {
        "id": "LuQGGaTfjVXA",
        "colab_type": "code",
        "colab": {}
      },
      "source": [
        "datadf = pd.DataFrame(number_app)"
      ],
      "execution_count": null,
      "outputs": []
    },
    {
      "cell_type": "code",
      "metadata": {
        "id": "bziOTPsilhVk",
        "colab_type": "code",
        "colab": {}
      },
      "source": [
        "datadf"
      ],
      "execution_count": null,
      "outputs": []
    },
    {
      "cell_type": "code",
      "metadata": {
        "id": "FFcBi4Puw6NI",
        "colab_type": "code",
        "colab": {}
      },
      "source": [
        ""
      ],
      "execution_count": null,
      "outputs": []
    },
    {
      "cell_type": "markdown",
      "metadata": {
        "id": "R90YQK8sA248",
        "colab_type": "text"
      },
      "source": [
        "visuali"
      ]
    },
    {
      "cell_type": "code",
      "metadata": {
        "id": "YFhmzDullgos",
        "colab_type": "code",
        "colab": {}
      },
      "source": [
        "data_rating_un = df[df['Category'] == \"GAME\"]\n",
        "number_app=data_rating_un[\"Genres\"].value_counts()\n",
        "labels = number_app.index\n",
        "sizes = number_app.values\n",
        "for i in range(10):\n",
        " print(labels[i])\n",
        " print(sizes[i])"
      ],
      "execution_count": null,
      "outputs": []
    },
    {
      "cell_type": "code",
      "metadata": {
        "id": "Gvn7Wxur_iHC",
        "colab_type": "code",
        "colab": {}
      },
      "source": [
        "fig, ax = plt.subplots(figsize=(10, 10), subplot_kw=dict(aspect=\"equal\"))\n",
        "number_app= df[\"Category\"].value_counts()\n",
        "labels = number_app.index\n",
        "sizes = number_app.values\n",
        "print(len(number_app))\n",
        "\n",
        "ax.pie(sizes , labeldistance=2, autopct='%10.1f%%')\n",
        "ax.legend(labels=labels,loc=\"right\",bbox_to_anchor=(0.9, 0, 0.5, 1))\n",
        "ax.axis(\"equal\")\n",
        "plt.show()"
      ],
      "execution_count": null,
      "outputs": []
    },
    {
      "cell_type": "code",
      "metadata": {
        "id": "WoL4COjOFMS9",
        "colab_type": "code",
        "colab": {}
      },
      "source": [
        ""
      ],
      "execution_count": null,
      "outputs": []
    },
    {
      "cell_type": "code",
      "metadata": {
        "id": "12tIyUtRGmBN",
        "colab_type": "code",
        "colab": {}
      },
      "source": [
        "sns.set(style=\"darkgrid\")\n",
        "sns.set(font_scale=1.3)\n",
        "sns.factorplot(x=\"Type\", data=df, kind=\"count\", size=10, aspect=1.5, palette=\"cubehelix\")\n",
        "plt.show();"
      ],
      "execution_count": null,
      "outputs": []
    },
    {
      "cell_type": "markdown",
      "metadata": {
        "id": "w69mYCQ53_k0",
        "colab_type": "text"
      },
      "source": [
        "build pie chart for plot free and app for each category"
      ]
    },
    {
      "cell_type": "code",
      "metadata": {
        "id": "qS4Bdu_1yZc-",
        "colab_type": "code",
        "colab": {}
      },
      "source": [
        "\n",
        "#  create new col cat num  for convert the category to  number convert each row  to number\n",
        "#we want to do a label encoding on the make of the category   example art   code to 0\n",
        "lb_make = LabelEncoder()\n",
        "df[\"Category NUM\"] = lb_make.fit_transform(df[\"Category\"])\n",
        "# Form dicitonary for Category and numeric values\n",
        "#build dict for category \n",
        "\n",
        "dict_category = {}\n",
        "val = 0\n",
        "for i in df[\"Category\"].unique():\n",
        " dict_category[i] = val\n",
        " val += 1"
      ],
      "execution_count": null,
      "outputs": []
    },
    {
      "cell_type": "code",
      "metadata": {
        "id": "0R4DlUe60Q2p",
        "colab_type": "code",
        "colab": {}
      },
      "source": [
        "df[\"Category NUM\"].unique"
      ],
      "execution_count": null,
      "outputs": []
    },
    {
      "cell_type": "code",
      "metadata": {
        "id": "FE3LEto30nwP",
        "colab_type": "code",
        "colab": {}
      },
      "source": [
        "dict_category"
      ],
      "execution_count": null,
      "outputs": []
    },
    {
      "cell_type": "code",
      "metadata": {
        "id": "ILaw4Gk5jGGy",
        "colab_type": "code",
        "colab": {}
      },
      "source": [
        ""
      ],
      "execution_count": null,
      "outputs": []
    },
    {
      "cell_type": "code",
      "metadata": {
        "id": "CDiv-cZ6jFsX",
        "colab_type": "code",
        "colab": {}
      },
      "source": [
        "data_rating_un = df[df['Rating'] ==4]\n",
        "number_app=data_rating_un[\"Category\"].value_counts()\n",
        "labels = number_app.index\n",
        "sizes = number_app.values\n",
        "for i in range(50):\n",
        " print(labels[i])\n",
        " print(sizes[i])"
      ],
      "execution_count": null,
      "outputs": []
    },
    {
      "cell_type": "code",
      "metadata": {
        "id": "CjfhkB_ZfqZu",
        "colab_type": "code",
        "colab": {}
      },
      "source": [
        "\n",
        "#  create new col cat num  for convert the category to  number convert each row  to number\n",
        "#we want to do a label encoding on the make of the category   example art   code to 0\n",
        "lb_make = LabelEncoder()\n",
        "df[\"Rating NUM\"] = lb_make.fit_transform(df[\"Rating\"])\n",
        "# Form dicitonary for Category and numeric values\n",
        "#build dict for category \n",
        "\n"
      ],
      "execution_count": null,
      "outputs": []
    },
    {
      "cell_type": "code",
      "metadata": {
        "id": "H1b_sD7Bge-_",
        "colab_type": "code",
        "colab": {}
      },
      "source": [
        "dict_rating = {}\n",
        "val = 0\n",
        "for i in df[\"Rating\"].unique():\n",
        " dict_category[i] = val\n",
        " val += 1"
      ],
      "execution_count": null,
      "outputs": []
    },
    {
      "cell_type": "code",
      "metadata": {
        "id": "29H7wVaTgehh",
        "colab_type": "code",
        "colab": {}
      },
      "source": [
        ""
      ],
      "execution_count": null,
      "outputs": []
    },
    {
      "cell_type": "code",
      "metadata": {
        "id": "L0RqFBSYfuNb",
        "colab_type": "code",
        "colab": {}
      },
      "source": [
        "df[\"Rating NUM\"].unique"
      ],
      "execution_count": null,
      "outputs": []
    },
    {
      "cell_type": "code",
      "metadata": {
        "id": "W-O-Gu8OfxUZ",
        "colab_type": "code",
        "colab": {}
      },
      "source": [
        "dict_category"
      ],
      "execution_count": null,
      "outputs": []
    },
    {
      "cell_type": "code",
      "metadata": {
        "id": "DzHpUJqBd0lf",
        "colab_type": "code",
        "colab": {}
      },
      "source": [
        "# piecategory\n",
        "value_rating= np.zeros(33)\n",
        "labels_rating = df['Rating'].unique()\n",
        "for i in range(len(df['Rating'])):\n",
        " try:\n",
        "  value = df['Rating'][i]\n",
        "  num = dict_category[value]\n",
        "  value_category[num] = value_category[num] + 1\n",
        " except:\n",
        "  pass\n",
        "#  count free and paid for each categort \n",
        "free_paid_list = [] \n",
        "\n",
        "for j in labels_category:\n",
        " free_count = 0\n",
        " paid_count = 0\n",
        " for i in range(len(df['Type'])):\n",
        "  try:\n",
        "   if df['Rating'][i] == j:\n",
        "    if df['Type'][i] == \"Free\":\n",
        "     free_count += 1\n",
        "    if df['Type'][i] == \"Paid\":\n",
        "     paid_count += 1\n",
        "  except:\n",
        "   pass   \n",
        " free_paid_list.append(free_count)\n",
        " free_paid_list.append(paid_count)    \n",
        "  "
      ],
      "execution_count": null,
      "outputs": []
    },
    {
      "cell_type": "code",
      "metadata": {
        "id": "XhLMeDOGfR2L",
        "colab_type": "code",
        "colab": {}
      },
      "source": [
        "free_paid_list"
      ],
      "execution_count": null,
      "outputs": []
    },
    {
      "cell_type": "markdown",
      "metadata": {
        "id": "L6AHG7xL2QQI",
        "colab_type": "text"
      },
      "source": [
        "build pie chart to plot  free and paid app for each  category"
      ]
    },
    {
      "cell_type": "code",
      "metadata": {
        "id": "XF5u9O3shnqu",
        "colab_type": "code",
        "colab": {}
      },
      "source": [
        "colors_free_paid = []\n",
        "free_color = \"#2a57c6\" # blue color\n",
        "paid_color = \"#ee4343\" # red colro\n",
        "for i in range(int(len(free_paid_list)/2)):\n",
        "  #ajouter to colors arry\n",
        " colors_free_paid.append(free_color)\n",
        " colors_free_paid.append(paid_color)\n",
        "plt.axis(\"equal\")\n",
        "plt.pie(value_rating, labels=labels_rating, radius=5, autopct='%0.2f%%', rotatelabels=True, pctdistance=1.1, labeldistance=1.2)\n",
        "plt.pie(free_paid_list, colors=colors_free_paid, radius=4.25, autopct='%0.2f%%', pctdistance=1.0)\n",
        "centre_circle = plt.Circle((0,0),1.0,color='black', fc='white')\n",
        "fig = plt.gcf()!\n",
        "fig.gca().add_artist(centre_circle)\n",
        "plt.tight_layout()\n",
        "plt.show()"
      ],
      "execution_count": null,
      "outputs": []
    },
    {
      "cell_type": "code",
      "metadata": {
        "id": "hE-DDfrLp0Rl",
        "colab_type": "code",
        "colab": {}
      },
      "source": [
        "# piecategory\n",
        "value_category = np.zeros(33)\n",
        "labels_category = df['Category'].unique()\n",
        "for i in range(len(df['Category'])):\n",
        " try:\n",
        "  value = df['Category'][i]\n",
        "  num = dict_category[value]\n",
        "  value_category[num] = value_category[num] + 1\n",
        " except:\n",
        "  pass\n",
        "#  count free and paid for each categort \n",
        "free_paid_list = [] \n",
        "\n",
        "for j in labels_category:\n",
        " free_count = 0\n",
        " paid_count = 0\n",
        " for i in range(len(df['Type'])):\n",
        "  try:\n",
        "   if df['Category'][i] == j:\n",
        "    if df['Type'][i] == \"Free\":\n",
        "     free_count += 1\n",
        "    if df['Type'][i] == \"Paid\":\n",
        "     paid_count += 1\n",
        "  except:\n",
        "   pass   \n",
        " free_paid_list.append(free_count)\n",
        " free_paid_list.append(paid_count)"
      ],
      "execution_count": null,
      "outputs": []
    },
    {
      "cell_type": "code",
      "metadata": {
        "id": "TVmwWbTeq8-1",
        "colab_type": "code",
        "colab": {}
      },
      "source": [
        "labels_category"
      ],
      "execution_count": null,
      "outputs": []
    },
    {
      "cell_type": "code",
      "metadata": {
        "id": "X2l1WKiOq0Ch",
        "colab_type": "code",
        "colab": {}
      },
      "source": [
        "free_paid_list"
      ],
      "execution_count": null,
      "outputs": []
    },
    {
      "cell_type": "code",
      "metadata": {
        "id": "Lvmu3EQqqzqv",
        "colab_type": "code",
        "colab": {}
      },
      "source": [
        ""
      ],
      "execution_count": null,
      "outputs": []
    },
    {
      "cell_type": "code",
      "metadata": {
        "id": "4xn2z4pOwbGW",
        "colab_type": "code",
        "colab": {}
      },
      "source": [
        "# piecategory\n",
        "value_category = np.zeros(33)\n",
        "labels_category = df['Category'].unique()\n",
        "for i in range(len(df['Category'])):\n",
        " try:\n",
        "  value = df['Category'][i]\n",
        "  num = dict_category[value]\n",
        "  value_category[num] = value_category[num] + 1\n",
        " except:\n",
        "  pass\n",
        "#  count free and paid for each categort \n",
        "free_paid_list = [] \n",
        "\n",
        "for j in labels_category:\n",
        " free_count = 0\n",
        " paid_count = 0\n",
        " for i in range(len(df['Type'])):\n",
        "  try:\n",
        "   if df['Category'][i] == j:\n",
        "    if df['Type'][i] == \"Free\":\n",
        "     free_count += 1\n",
        "    if df['Type'][i] == \"Paid\":\n",
        "     paid_count += 1\n",
        "  except:\n",
        "   pass   \n",
        " free_paid_list.append(free_count)\n",
        " free_paid_list.append(paid_count)\n",
        "colors_free_paid = []\n",
        "free_color = \"#2a57c6\" # blue color\n",
        "paid_color = \"#ee4343\" # red colro\n",
        "for i in range(int(len(free_paid_list)/2)):\n",
        "  #ajouter to colors arry\n",
        " colors_free_paid.append(free_color)\n",
        " colors_free_paid.append(paid_color)\n",
        "plt.axis(\"equal\")\n",
        "plt.pie(value_category, labels=labels_category, radius=5, autopct='%0.2f%%', rotatelabels=True, pctdistance=1.1, labeldistance=1.2)\n",
        "plt.pie(free_paid_list, colors=colors_free_paid, radius=4.25, autopct='%0.2f%%', pctdistance=1.0)\n",
        "centre_circle = plt.Circle((0,0),1.0,color='black', fc='white')\n",
        "fig = plt.gcf()\n",
        "fig.gca().add_artist(centre_circle)\n",
        "plt.tight_layout()\n",
        "plt.show()"
      ],
      "execution_count": null,
      "outputs": []
    },
    {
      "cell_type": "code",
      "metadata": {
        "id": "ELZM4dH7pTyZ",
        "colab_type": "code",
        "colab": {}
      },
      "source": [
        "value_category"
      ],
      "execution_count": null,
      "outputs": []
    },
    {
      "cell_type": "markdown",
      "metadata": {
        "id": "99R9oJwT99DT",
        "colab_type": "text"
      },
      "source": [
        "# **work for this week**"
      ]
    },
    {
      "cell_type": "markdown",
      "metadata": {
        "id": "0IQfyYLo6fVo",
        "colab_type": "text"
      },
      "source": [
        "Rating"
      ]
    },
    {
      "cell_type": "code",
      "metadata": {
        "id": "POzcUzzj6egw",
        "colab_type": "code",
        "colab": {}
      },
      "source": [
        ""
      ],
      "execution_count": null,
      "outputs": []
    },
    {
      "cell_type": "code",
      "metadata": {
        "id": "B_sNhMThID1T",
        "colab_type": "code",
        "colab": {}
      },
      "source": [
        "# \n",
        "\n",
        "plt.figure(figsize= (15, 10));\n",
        "\n",
        "df.Rating.plot(kind=\"hist\", bins=30, color='r')\n",
        "plt.title(\" Rating istogram\");\n",
        "plt.xlabel(\"Rating\");\n",
        "plt.ylabel(\"total counts\");\n",
        "plt.xlim(right=6)\n",
        "plt.plot();"
      ],
      "execution_count": null,
      "outputs": []
    },
    {
      "cell_type": "code",
      "metadata": {
        "id": "PrFpD2u4bxqG",
        "colab_type": "code",
        "colab": {}
      },
      "source": [
        "# Narrower bandwidth\n",
        "sns.kdeplot(df['Rating'], shade=True, bw=0.05, color=\"olive\")\n",
        "\n",
        "#sns.plt.show()\n"
      ],
      "execution_count": null,
      "outputs": []
    },
    {
      "cell_type": "code",
      "metadata": {
        "id": "FXc_2wE5fh7i",
        "colab_type": "code",
        "colab": {}
      },
      "source": [
        "#  create new col cat num  for convert the category to  number convert each row  to number\n",
        "#we want to do a label encoding on the make of the category   example art   code to 0\n",
        "lb_make = LabelEncoder()\n",
        "df[\"Rating NUM\"] = lb_make.fit_transform(df[\"Rating\"])\n",
        "# Form dicitonary for Category and numeric values\n",
        "#build dict for category \n",
        "\n",
        "dict_category = {}\n",
        "val = 0\n",
        "for i in df[\"Rating\"].unique():\n",
        " dict_category[i] = val\n",
        " val += 1\n"
      ],
      "execution_count": null,
      "outputs": []
    },
    {
      "cell_type": "code",
      "metadata": {
        "id": "0Mfo-DZvf2ar",
        "colab_type": "code",
        "colab": {}
      },
      "source": [
        " dict_category"
      ],
      "execution_count": null,
      "outputs": []
    },
    {
      "cell_type": "markdown",
      "metadata": {
        "id": "uukdbYBM6XUQ",
        "colab_type": "text"
      },
      "source": [
        ""
      ]
    },
    {
      "cell_type": "code",
      "metadata": {
        "id": "s3caWBdmeHGo",
        "colab_type": "code",
        "colab": {}
      },
      "source": [
        "value_category = np.zeros(33)\n",
        "labels_category = df['Rating'].unique()\n",
        "for i in range(len(df['Rating'])):\n",
        " try:\n",
        "  value = df['Rating'][i]\n",
        "  num = dict_category[value]\n",
        "  value_category[num] = value_category[num] + 1\n",
        " except:\n",
        "  pass\n",
        "\n"
      ],
      "execution_count": null,
      "outputs": []
    },
    {
      "cell_type": "code",
      "metadata": {
        "id": "LrUZXEyOohmb",
        "colab_type": "code",
        "colab": {}
      },
      "source": [
        "fig, ax = plt.subplots(figsize=(10,10), subplot_kw=dict(aspect=\"equal\"))\n",
        "number_app= df[\"Rating\"].value_counts()\n",
        "labels = number_app.index\n",
        "sizes = number_app.values\n",
        "print(len(number_app))\n",
        "\n",
        "ax.pie(sizes , labeldistance=3, autopct='%10.1f%%')\n",
        "ax.legend(labels=labels,loc=\"right\",bbox_to_anchor=(0.9, 0, 0.5, 1))\n",
        "ax.axis(\"equal\")\n",
        "plt.show()"
      ],
      "execution_count": null,
      "outputs": []
    },
    {
      "cell_type": "code",
      "metadata": {
        "id": "JjPIINsqrovG",
        "colab_type": "code",
        "colab": {}
      },
      "source": [
        "sns.distplot( a=df[\"Rating\"], kde=True,hist=True,\n",
        "kde_kws={\"color\": \"r\", \"alpha\":0.5, \"linewidth\":1, \"shade\":True}\n",
        ")\n"
      ],
      "execution_count": null,
      "outputs": []
    },
    {
      "cell_type": "code",
      "metadata": {
        "id": "ZT6yySOmrosZ",
        "colab_type": "code",
        "colab": {}
      },
      "source": [
        ""
      ],
      "execution_count": null,
      "outputs": []
    },
    {
      "cell_type": "code",
      "metadata": {
        "id": "Wr2ClUpnINQZ",
        "colab_type": "code",
        "colab": {}
      },
      "source": [
        "#viisulisation  category vs count\n",
        "plt.figure(figsize=(15,10))\n",
        "df.Category.value_counts().plot(kind=\"bar\", rot=0, title=\"Pclass Vs Count\", color='r', );\n",
        "plt.xticks(rotation='vertical');\n",
        "plt.title(\"Category  vs pp count\")\n",
        "plt.xlabel(\"category name\")\n",
        "plt.ylabel(\"count\")\n",
        "plt.plot();"
      ],
      "execution_count": null,
      "outputs": []
    },
    {
      "cell_type": "code",
      "metadata": {
        "id": "h6aK89TRIWLx",
        "colab_type": "code",
        "colab": {}
      },
      "source": [
        "plt.figure(figsize=(15,10))\n",
        "df.groupby([\"Category\"]).Rating.mean().plot(kind=\"bar\", rot=0, title=\"Pclass Vs Count\" ,color='r');\n",
        "plt.xticks(rotation='vertical');\n",
        "plt.xlabel(\"Category Name\")\n",
        "plt.ylabel(\"Avg. rating\")\n",
        "plt.title(\"Category Vs Avg. Rating\")\n",
        "plt.plot();"
      ],
      "execution_count": null,
      "outputs": []
    },
    {
      "cell_type": "code",
      "metadata": {
        "id": "Ie7BHB-QIr_F",
        "colab_type": "code",
        "colab": {}
      },
      "source": [
        "plt.figure(figsize=(15, 10), dpi=100, );\n",
        "df[\"Content Rating\"].value_counts().plot(kind=\"area\");\n",
        "plt.title(\"content Vs total Count\");\n",
        "plt.xlabel(\"content type\");\n",
        "plt.ylabel(\"count\");\n",
        "plt.ylim(bottom=-10);\n",
        "plt.plot();"
      ],
      "execution_count": null,
      "outputs": []
    },
    {
      "cell_type": "code",
      "metadata": {
        "id": "BMLsnIKWI0Mm",
        "colab_type": "code",
        "colab": {}
      },
      "source": [
        "plt.figure(figsize=(15, 10));\n",
        "plt.xlabel(\"Anroid Version\");\n",
        "plt.ylabel(\"Total Apps\");\n",
        "plt.title(\"Android Version Vs Total Conts\");\n",
        "df[\"Android Ver\"].value_counts().plot(kind=\"bar\");\n",
        "plt.plot();"
      ],
      "execution_count": null,
      "outputs": []
    },
    {
      "cell_type": "code",
      "metadata": {
        "id": "8KEOqcW0JFNq",
        "colab_type": "code",
        "colab": {}
      },
      "source": [
        "# Lets plot top 10 genres\n",
        "plt.figure(figsize=(15, 10));\n",
        "df[\"Genres\"].value_counts().head(10).plot(kind=\"area\");\n",
        "\n",
        "plt.title(\"oop 10 genres\");\n",
        "plt.xlabel(\"genres\");\n",
        "plt.ylabel(\"count\");\n",
        "plt.plot();"
      ],
      "execution_count": null,
      "outputs": []
    },
    {
      "cell_type": "code",
      "metadata": {
        "id": "exRLL75jspUy",
        "colab_type": "code",
        "colab": {}
      },
      "source": [
        "category_list = list(df['Category'].unique())\n",
        "category_list\n"
      ],
      "execution_count": null,
      "outputs": []
    },
    {
      "cell_type": "code",
      "metadata": {
        "id": "Uj3AKBVIsxli",
        "colab_type": "code",
        "colab": {}
      },
      "source": [
        "df[df['Category'] == i]"
      ],
      "execution_count": null,
      "outputs": []
    },
    {
      "cell_type": "code",
      "metadata": {
        "id": "y2TJ04_3s8bE",
        "colab_type": "code",
        "colab": {}
      },
      "source": [
        "x.Installs"
      ],
      "execution_count": null,
      "outputs": []
    },
    {
      "cell_type": "code",
      "metadata": {
        "id": "iq6uFWEPrruh",
        "colab_type": "code",
        "colab": {}
      },
      "source": [
        "category_list = list(df['Category'].unique())\n",
        "category_install = []\n",
        "for i in category_list:\n",
        "    x = df[df['Category'] == i]\n",
        "    if(len(x)!=0):\n",
        "        install = sum(x.Installs)/len(x)\n",
        "        category_install.append(install)\n",
        "    else:\n",
        "        install = sum(x.Installs)\n",
        "        category_install.append(install)\n",
        "        \n",
        "data_category_install = pd.DataFrame({'category': category_list,'install':category_install})\n",
        "new_index = (data_category_install['install'].sort_values(ascending=False)).index.values\n",
        "sorted_data =data_category_install.reindex(new_index)\n",
        "\n",
        "# visualization\n",
        "plt.figure(figsize=(15,10))\n",
        "\n",
        "sns.barplot(x=sorted_data['category'], y=sorted_data['install'])\n",
        "plt.xticks(rotation=80)\n",
        "plt.xlabel(\"Category\")\n",
        "plt.ylabel(\"Install\")\n",
        "plt.title(\"Category and Install\")\n",
        "plt.show()\n",
        "\n",
        "df.Category.value_counts().plot(kind=\"area\", rot=0, title=\"Pclass Vs Count\", );\n",
        "plt.xticks(rotation='vertical');\n",
        "plt.title(\"Category  vs pp count\")\n",
        "plt.xlabel(\"category \")\n",
        "plt.ylabel(\"Install\")\n",
        "plt.plot();"
      ],
      "execution_count": null,
      "outputs": []
    },
    {
      "cell_type": "code",
      "metadata": {
        "id": "LtIEWXw8vkyT",
        "colab_type": "code",
        "colab": {}
      },
      "source": [
        "category_list = list(df['App'].unique())\n",
        "category_list"
      ],
      "execution_count": null,
      "outputs": []
    },
    {
      "cell_type": "code",
      "metadata": {
        "id": "ylHfdVXGxzgu",
        "colab_type": "code",
        "colab": {}
      },
      "source": [
        "category_list = list(df['Category'].unique())\n",
        "category_rating = []\n",
        "for i in category_rating:\n",
        "    x = df[df['Category'] == i]\n",
        "    if(len(x)!=0):\n",
        "        rating = sum(x.Rating)/len(x)\n",
        "        category_rating.append(rating)\n",
        "    else:\n",
        "        rating = sum(x.Rating)\n",
        "        category_rating.append(rating)\n",
        "        \n",
        "#sorting\n",
        "data_category_rating = pd.DataFrame({'category': category_list,'rating':category_rating})\n",
        "new_index = (data_category_rating['rating'].sort_values(ascending=False)).index.values\n",
        "sorted_data =data_category_rating.reindex(new_index)\n",
        "\n",
        "# visualization\n",
        "plt.figure(figsize=(15,10))\n",
        "sns.barplot(x=sorted_data['category'], y=sorted_data['rating'])\n",
        "plt.xticks(rotation=80)\n",
        "plt.xlabel(\"category\")\n",
        "plt.ylabel(\"Rating\")\n",
        "plt.title(\"Category and Install\")\n",
        "plt.show()"
      ],
      "execution_count": null,
      "outputs": []
    }
  ]
}